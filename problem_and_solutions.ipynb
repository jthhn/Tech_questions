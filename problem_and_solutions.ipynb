{
 "cells": [
  {
   "cell_type": "code",
   "execution_count": 1,
   "id": "34fbf140",
   "metadata": {},
   "outputs": [
    {
     "name": "stdout",
     "output_type": "stream",
     "text": [
      "/home/jithin/Desktop/learn_python/venv/bin/python\n"
     ]
    }
   ],
   "source": [
    "import sys\n",
    "print(sys.executable)"
   ]
  },
  {
   "cell_type": "markdown",
   "id": "9e4dba16",
   "metadata": {},
   "source": [
    "# Program to find the number of digits in a given number."
   ]
  },
  {
   "cell_type": "code",
   "execution_count": null,
   "id": "49b4a120",
   "metadata": {},
   "outputs": [
    {
     "name": "stdout",
     "output_type": "stream",
     "text": [
      "4\n"
     ]
    }
   ],
   "source": [
    "def numofdigit(N):\n",
    "    count = 0\n",
    "    while (N > 0):\n",
    "        count += 1\n",
    "        N = int(N / 10)\n",
    "    return count\n",
    "\n",
    "print(numofdigit(9999))"
   ]
  },
  {
   "cell_type": "markdown",
   "id": "5bb8042f",
   "metadata": {},
   "source": [
    "# Write a program to remove the key-value of dictionary where the length of key-value is above 3."
   ]
  },
  {
   "cell_type": "code",
   "execution_count": 22,
   "id": "0c077c11",
   "metadata": {},
   "outputs": [
    {
     "name": "stdout",
     "output_type": "stream",
     "text": [
      "{'number pattern': 78, 'name': 'Trump'}\n"
     ]
    }
   ],
   "source": [
    "def popdict(dictionary):\n",
    "    pop_value = []\n",
    "    for sub_dict in dictionary:\n",
    "        if isinstance(dictionary[sub_dict], str) and len(sub_dict) > 4:\n",
    "            pop_value.append(sub_dict)\n",
    "\n",
    "    for value in pop_value:\n",
    "        dictionary.pop(value)\n",
    "    return dictionary\n",
    "\n",
    "print(popdict(dictionary = {'country': 'India', 'number pattern': 78, 'name': 'Trump', 'Blood Group': 'B+'}))"
   ]
  },
  {
   "cell_type": "markdown",
   "id": "f508dc11",
   "metadata": {},
   "source": [
    "# Write a program to find the number is palindrome or not"
   ]
  },
  {
   "cell_type": "code",
   "execution_count": 54,
   "id": "cc23baaf",
   "metadata": {},
   "outputs": [
    {
     "name": "stdout",
     "output_type": "stream",
     "text": [
      "True \n",
      "False\n"
     ]
    }
   ],
   "source": [
    "\n",
    "def numpalindrome(N):\n",
    "    realnumber = int(N)\n",
    "    reverse = ''\n",
    "    while (N > 0):\n",
    "        reverse = reverse + str(N % 10)\n",
    "        N = N // 10\n",
    "    if realnumber == int(reverse):\n",
    "        return True\n",
    "    else:\n",
    "        return False\n",
    "\n",
    "print(f'{numpalindrome(12321)} \\n{numpalindrome(12345)}')"
   ]
  },
  {
   "cell_type": "code",
   "execution_count": null,
   "id": "f23f6349",
   "metadata": {},
   "outputs": [],
   "source": [
    "# To Try copy of an variable \n",
    "import copy\n",
    "varial = 1237\n",
    "copydfd = copy.copy(varial)"
   ]
  },
  {
   "cell_type": "markdown",
   "id": "485cc634",
   "metadata": {},
   "source": [
    "# Write a program to find the given number is armstrong or not"
   ]
  },
  {
   "cell_type": "code",
   "execution_count": 113,
   "id": "88c61f20",
   "metadata": {},
   "outputs": [
    {
     "name": "stdout",
     "output_type": "stream",
     "text": [
      "153\n"
     ]
    }
   ],
   "source": [
    "# first extracts the digits the number \n",
    "# extract the single digit by module operation by 10\n",
    "# Use a variable to set the value 0, here you neeed the add the cube of the single digits while itrarating\n",
    "# Use floor division to remove the division to remove the point value thus u can remove single digit here \n",
    "\n",
    "def armstrong(N):\n",
    "    sumcube = 0\n",
    "    while (N > 0):\n",
    "        lastdigit = N % 10\n",
    "        sumcube = sumcube + (lastdigit ** 3)\n",
    "        N = N // 10\n",
    "    return sumcube\n",
    "\n",
    "print(armstrong(153))"
   ]
  },
  {
   "cell_type": "markdown",
   "id": "10affc73",
   "metadata": {},
   "source": [
    "# Print all divisors of a number."
   ]
  },
  {
   "cell_type": "code",
   "execution_count": 12,
   "id": "8eb9bd20",
   "metadata": {},
   "outputs": [
    {
     "name": "stdout",
     "output_type": "stream",
     "text": [
      "[1, 2, 3, 4, 6, 9, 12, 18]\n"
     ]
    }
   ],
   "source": [
    "def divisor(n):\n",
    "    _ = []\n",
    "    for i in range(1,n):\n",
    "        if (n % i) == 0:\n",
    "            _.append(i)\n",
    "    return _\n",
    "        \n",
    "print(divisor(36))"
   ]
  },
  {
   "cell_type": "markdown",
   "id": "722463da",
   "metadata": {},
   "source": [
    "# Write a python program to find reverse of a list without using any builtin method."
   ]
  },
  {
   "cell_type": "code",
   "execution_count": 1,
   "id": "5ce1a3c8",
   "metadata": {},
   "outputs": [
    {
     "name": "stdout",
     "output_type": "stream",
     "text": [
      "[7, 6, 5, 4, 3, 2, 1]\n"
     ]
    }
   ],
   "source": [
    "def revlist(l):\n",
    "    length = len(l)-1\n",
    "    reverse = []\n",
    "    while (length >=0):\n",
    "        reverse.append(l[length])\n",
    "        length -= 1\n",
    "    return reverse\n",
    "\n",
    "print(revlist([1,2,3,4,5,6,7]))"
   ]
  },
  {
   "cell_type": "markdown",
   "id": "f305ca66",
   "metadata": {},
   "source": [
    "# write a recursion function for fibbinocci series."
   ]
  },
  {
   "cell_type": "code",
   "execution_count": null,
   "id": "6c20d60d",
   "metadata": {},
   "outputs": [],
   "source": [
    "def fibbinoci(n):\n",
    "    if n == 1 or n == 2:\n",
    "        return 1\n",
    "    return fibbinoci(n-1) + fibbinoci(2)"
   ]
  },
  {
   "cell_type": "markdown",
   "id": "27128066",
   "metadata": {},
   "source": [
    "# Write a function to get the index value of 2nd occurance of a given element."
   ]
  },
  {
   "cell_type": "code",
   "execution_count": 54,
   "id": "05775a49",
   "metadata": {},
   "outputs": [
    {
     "name": "stdout",
     "output_type": "stream",
     "text": [
      "4\n"
     ]
    }
   ],
   "source": [
    "def indx2nd(string, element_to_Find):\n",
    "    count = 0\n",
    "    length = len(string) - 1\n",
    "    for index in range(0, length, 1):\n",
    "        if string[index] == element_to_Find:\n",
    "            count += 1\n",
    "        if count == 2:\n",
    "            return index\n",
    "        \n",
    "print(indx2nd('jithin', 'i'))"
   ]
  },
  {
   "cell_type": "markdown",
   "id": "dc00315c",
   "metadata": {},
   "source": [
    "# Program to find the all second occurance of an element and its index value."
   ]
  },
  {
   "cell_type": "code",
   "execution_count": 23,
   "id": "fbf94e81",
   "metadata": {},
   "outputs": [
    {
     "name": "stdout",
     "output_type": "stream",
     "text": [
      "{'s': 1, 'm': 6}\n"
     ]
    }
   ],
   "source": [
    "def scndocc(string):\n",
    "    duplicates = {}\n",
    "    listvalue = []\n",
    "    length = len(string) - 1\n",
    "    for index in range(length):\n",
    "        if string[index] in listvalue:\n",
    "            duplicates[string[index]] = index\n",
    "        listvalue.append(string[index])\n",
    "    return duplicates\n",
    "\n",
    "print(scndocc('ssunammi'))"
   ]
  },
  {
   "cell_type": "markdown",
   "id": "af3b6fbc",
   "metadata": {},
   "source": [
    "# Find the Runner-Up Score!\n",
    "- hacker rank one\n",
    "Given the participants' score sheet for your University Sports Day, you are required to find the runner-up score. You are given\n",
    "\n",
    "scores. Store them in a list and find the score of the runner-up.\n",
    "\n",
    "Input Format\n",
    "\n",
    "The first line contains\n",
    ". The second line contains an array of\n",
    "\n",
    "integers each separated by a space.\n",
    "\n",
    "Constraints\n",
    "\n",
    "Output Format\n",
    "\n",
    "Print the runner-up score.    "
   ]
  },
  {
   "cell_type": "code",
   "execution_count": 27,
   "id": "3933fd20",
   "metadata": {},
   "outputs": [
    {
     "ename": "ValueError",
     "evalue": "invalid literal for int() with base 10: \"5'\"",
     "output_type": "error",
     "traceback": [
      "\u001b[31m---------------------------------------------------------------------------\u001b[39m",
      "\u001b[31mValueError\u001b[39m                                Traceback (most recent call last)",
      "\u001b[36mCell\u001b[39m\u001b[36m \u001b[39m\u001b[32mIn[27]\u001b[39m\u001b[32m, line 1\u001b[39m\n\u001b[32m----> \u001b[39m\u001b[32m1\u001b[39m n = \u001b[38;5;28;43mint\u001b[39;49m\u001b[43m(\u001b[49m\u001b[38;5;28;43minput\u001b[39;49m\u001b[43m(\u001b[49m\u001b[43m)\u001b[49m\u001b[43m)\u001b[49m\n\u001b[32m      2\u001b[39m arr = \u001b[38;5;28mmap\u001b[39m(\u001b[38;5;28mint\u001b[39m, \u001b[38;5;28minput\u001b[39m().split())\n\u001b[32m      3\u001b[39m arr = \u001b[38;5;28mset\u001b[39m(arr)\n",
      "\u001b[31mValueError\u001b[39m: invalid literal for int() with base 10: \"5'\""
     ]
    }
   ],
   "source": [
    "n = int(input())\n",
    "arr = map(int, input().split())\n",
    "arr = set(arr)\n",
    "arr = sorted([ i for i in arr])\n",
    "print(arr[-2])"
   ]
  },
  {
   "cell_type": "markdown",
   "id": "b33edf26",
   "metadata": {},
   "source": [
    "## task hackerrank \n",
    "Task\n",
    "Given an integer, , and space-separated integers as input, create a tuple, , of those integers. Then compute and print the result of . "
   ]
  },
  {
   "cell_type": "code",
   "execution_count": 6,
   "id": "08b52795",
   "metadata": {},
   "outputs": [
    {
     "name": "stdout",
     "output_type": "stream",
     "text": [
      "-860454829093830431\n"
     ]
    }
   ],
   "source": [
    "n = int(input())\n",
    "integer_list = map(int, input().split())\n",
    "t = tuple(integer_list)\n",
    "print(hash(t))\n",
    "\n"
   ]
  },
  {
   "cell_type": "markdown",
   "id": "e3392d26",
   "metadata": {},
   "source": [
    "The provided code stub will read in a dictionary containing key/value pairs of name:[marks] for a list of students. Print the average of the marks array for the student name provided, showing 2 places after the decimal.\n",
    "\n",
    "Example\n",
    "\n",
    "\n",
    "\n",
    "The query_name is 'beta'. beta's average score is "
   ]
  },
  {
   "cell_type": "code",
   "execution_count": 31,
   "id": "b69e9141",
   "metadata": {},
   "outputs": [
    {
     "name": "stdout",
     "output_type": "stream",
     "text": [
      "168.0\n",
      "56.000000\n"
     ]
    }
   ],
   "source": [
    "if __name__ == '__main__':\n",
    "    n = int(input())\n",
    "    student_marks = {}\n",
    "    for _ in range(n):\n",
    "        name, *line = input().split()\n",
    "        scores = list(map(float, line))\n",
    "        student_marks[name] = scores\n",
    "    query_name = input()\n"
   ]
  },
  {
   "cell_type": "code",
   "execution_count": 47,
   "id": "eff0e080",
   "metadata": {},
   "outputs": [
    {
     "name": "stdout",
     "output_type": "stream",
     "text": [
      "56.00\n"
     ]
    }
   ],
   "source": [
    "sum = 0\n",
    "for mark in student_marks[query_name]:\n",
    "    sum += mark\n",
    "avg = sum / (len(student_marks[query_name]))  \n",
    "print(f'{avg:.2f}')"
   ]
  },
  {
   "cell_type": "markdown",
   "id": "c80b3a00",
   "metadata": {},
   "source": [
    "In Python, a string of text can be aligned left, right and center.\n",
    "\n",
    ".ljust(width)\n",
    "\n",
    "This method returns a left aligned string of length width."
   ]
  },
  {
   "cell_type": "code",
   "execution_count": 79,
   "id": "86ce0c4b",
   "metadata": {},
   "outputs": [
    {
     "name": "stdout",
     "output_type": "stream",
     "text": [
      "    H    \n",
      "   HHH   \n",
      "  HHHHH  \n",
      " HHHHHHH \n",
      "HHHHHHHHH\n",
      "  HHHHH               HHHHH             \n",
      "  HHHHH               HHHHH             \n",
      "  HHHHH               HHHHH             \n",
      "  HHHHH               HHHHH             \n",
      "  HHHHH               HHHHH             \n",
      "  HHHHH               HHHHH             \n",
      "  HHHHHHHHHHHHHHHHHHHHHHHHH   \n",
      "  HHHHHHHHHHHHHHHHHHHHHHHHH   \n",
      "  HHHHHHHHHHHHHHHHHHHHHHHHH   \n",
      "  HHHHH               HHHHH             \n",
      "  HHHHH               HHHHH             \n",
      "  HHHHH               HHHHH             \n",
      "  HHHHH               HHHHH             \n",
      "  HHHHH               HHHHH             \n",
      "  HHHHH               HHHHH             \n",
      "                    HHHHHHHHH \n",
      "                     HHHHHHH  \n",
      "                      HHHHH   \n",
      "                       HHH    \n",
      "                        H     \n"
     ]
    }
   ],
   "source": [
    "#Replace all ______ with rjust, ljust or center. \n",
    "\n",
    "thickness = 5 #This must be an odd number\n",
    "c = 'H'\n",
    "\n",
    "#Top Cone\n",
    "for i in range(thickness):\n",
    "    print((c*i).rjust(thickness-1)+c+(c*i).ljust(thickness-1))\n",
    "\n",
    "#Top Pillars\n",
    "for i in range(thickness+1):\n",
    "    print((c*thickness).center(thickness*2)+(c*thickness).center(thickness*6))\n",
    "\n",
    "# #Middle Belt\n",
    "for i in range((thickness+1)//2):\n",
    "    print((c*thickness*5).center(thickness*6))    \n",
    "\n",
    "# #Bottom Pillars\n",
    "for i in range(thickness+1):\n",
    "    print((c*thickness).center(thickness*2)+(c*thickness).center(thickness*6))    \n",
    "\n",
    "# #Bottom Cone\n",
    "for i in range(thickness):\n",
    "    print(((c*(thickness-i-1)).rjust(thickness)+c+(c*(thickness-i-1)).ljust(thickness)).rjust(thickness*6))"
   ]
  },
  {
   "cell_type": "markdown",
   "id": "89ceec72",
   "metadata": {},
   "source": [
    "You are given a string and width .\n",
    "Your task is to wrap the string into a paragraph of width\n",
    "\n",
    ".\n",
    "\n",
    "Function Description\n",
    "\n",
    "Complete the wrap function in the editor below.\n",
    "\n",
    "wrap has the following parameters:\n",
    "\n",
    "    string string: a long string \n"
   ]
  },
  {
   "cell_type": "code",
   "execution_count": 84,
   "id": "3f4756d2",
   "metadata": {},
   "outputs": [],
   "source": [
    "string = \"ABCDEFGHIJKLIMNOQRSTUVWXYZ\"\n",
    "width = 4"
   ]
  },
  {
   "cell_type": "code",
   "execution_count": 88,
   "id": "a6fbb9a1",
   "metadata": {},
   "outputs": [
    {
     "name": "stdout",
     "output_type": "stream",
     "text": [
      "ABCD\n",
      "EFGH\n",
      "IJKL\n",
      "IMNO\n",
      "QRST\n",
      "UVWX\n",
      "YZ\n"
     ]
    }
   ],
   "source": [
    "import textwrap\n",
    "print(textwrap.fill(string,width))"
   ]
  },
  {
   "cell_type": "markdown",
   "id": "25841264",
   "metadata": {},
   "source": [
    "Mr. Vincent works in a door mat manufacturing company. One day, he designed a new door mat with the following specifications:\n",
    "\n",
    "    Mat size must be \n",
    "\n",
    "X. ( is an odd natural number, and is times\n",
    ".)\n",
    "The design should have 'WELCOME' written in the center.\n",
    "The design pattern should only use |, . and - characters."
   ]
  },
  {
   "cell_type": "code",
   "execution_count": 106,
   "id": "8718cd84",
   "metadata": {},
   "outputs": [
    {
     "name": "stdout",
     "output_type": "stream",
     "text": [
      "Error Code: invalid literal for int() with base 10: 'e'\n",
      "Error Code: invalid literal for int() with base 10: 'd'\n"
     ]
    }
   ],
   "source": [
    "inputs = int(input())\n",
    "for _ in range(inputs):\n",
    "    a , b = input().split()\n",
    "    try:\n",
    "        print(int(a)// int(b))\n",
    "\n",
    "    except ZeroDivisionError as e :\n",
    "        print('Error Code:', e)\n",
    "    \n",
    "    except ValueError as e:\n",
    "        print('Error Code:', e)"
   ]
  },
  {
   "cell_type": "markdown",
   "id": "632efa13",
   "metadata": {},
   "source": [
    "Write a Python program to generate a random number."
   ]
  },
  {
   "cell_type": "code",
   "execution_count": 44,
   "id": "d1a68b72",
   "metadata": {},
   "outputs": [
    {
     "name": "stdout",
     "output_type": "stream",
     "text": [
      "67\n"
     ]
    }
   ],
   "source": [
    "import random\n",
    "print(random.randint(0,100))"
   ]
  },
  {
   "cell_type": "markdown",
   "id": "c1eea6bd",
   "metadata": {},
   "source": [
    "Write a Python program to convert kilometers to miles."
   ]
  },
  {
   "cell_type": "code",
   "execution_count": 46,
   "id": "1af7e819",
   "metadata": {},
   "outputs": [
    {
     "name": "stdout",
     "output_type": "stream",
     "text": [
      "14.291533\n"
     ]
    }
   ],
   "source": [
    "km = int(input(\"Enter the kilometer\"))\n",
    "factor = 0.621371\n",
    "miles = km * factor \n",
    "print(miles)"
   ]
  },
  {
   "cell_type": "markdown",
   "id": "22e7be96",
   "metadata": {},
   "source": [
    "Write a Python program to convert Celsius to Fahrenheit."
   ]
  },
  {
   "cell_type": "code",
   "execution_count": 47,
   "id": "5872172d",
   "metadata": {},
   "outputs": [
    {
     "name": "stdout",
     "output_type": "stream",
     "text": [
      "96.2\n"
     ]
    }
   ],
   "source": [
    "#(celsius * 9/5) + 32\n",
    "\n",
    "celsius = float(input(\"Enter the celsius measure\"))\n",
    "fahrenheit = (celsius * (9/5)) + 35\n",
    "print(fahrenheit)"
   ]
  },
  {
   "cell_type": "markdown",
   "id": "87f15f47",
   "metadata": {},
   "source": [
    "Write a Python program to display calendar."
   ]
  },
  {
   "cell_type": "code",
   "execution_count": 50,
   "id": "f1951b1f",
   "metadata": {},
   "outputs": [
    {
     "name": "stdout",
     "output_type": "stream",
     "text": [
      "     July 2025\n",
      "Mo Tu We Th Fr Sa Su\n",
      "    1  2  3  4  5  6\n",
      " 7  8  9 10 11 12 13\n",
      "14 15 16 17 18 19 20\n",
      "21 22 23 24 25 26 27\n",
      "28 29 30 31\n",
      "\n"
     ]
    }
   ],
   "source": [
    "import calendar\n",
    "year = int(input(\"Enter the year:\"))\n",
    "month = int(input(\"enter the month:\"))\n",
    "cal = calendar.month(year, month)\n",
    "print(cal)"
   ]
  },
  {
   "cell_type": "markdown",
   "id": "0a2316b2",
   "metadata": {},
   "source": [
    "- Write a Python program to solve quadratic equation.\n",
    "- The standard form of a quadratic equation is:\n",
    "    - 𝑎𝑥2 + 𝑏𝑥 + 𝑐 = 0\n",
    "- where\n",
    "- a, b and c are real numbers and\n",
    "- 𝑎≠0\n",
    "- The solutions of this quadratic equation is given by:\n",
    "    - (−𝑏 ± (𝑏2 − 4𝑎𝑐)1/2)/(2𝑎)"
   ]
  },
  {
   "cell_type": "code",
   "execution_count": 3,
   "id": "5ba6bf36",
   "metadata": {},
   "outputs": [
    {
     "name": "stdout",
     "output_type": "stream",
     "text": [
      "Root 1: -2.0 + 2.0i\n",
      "Root 2: -2.0 - 2.0i\n"
     ]
    }
   ],
   "source": [
    "import math \n",
    "\n",
    "# input coefficients \n",
    "a = float(input(\"Enter the coefficient a:\"))\n",
    "b = float(input(\"Enter the coefficient b:\"))\n",
    "c = float(input(\"Enter the coefficient c:\"))\n",
    "\n",
    "# Calculate the discriminant\n",
    "discriminant = b**2 - 4*a*c\n",
    "\n",
    "# Check if th discriminant is positive, negative, or zero \n",
    "if discriminant > 0:\n",
    "    # Two real and distinct roots \n",
    "    root1 = (-b + math.sqrt(discriminant)) / (2*a)\n",
    "    root2 = (-b - math.sqrt(discriminant)) / (2*a)\n",
    "    print(f\"Root: {root1}\")\n",
    "    print(f\"Root 2: {root2}\")\n",
    "elif discriminant == 0:\n",
    "    # One real root (repeated)\n",
    "    root = -b / (2*a)\n",
    "    print(f\"Root: {root}\")\n",
    "else:\n",
    "    real_part = -b / (2*a)\n",
    "    imaginary_part = math.sqrt(abs(discriminant)) / (2*a)\n",
    "    print(f\"Root 1: {real_part} + {imaginary_part}i\")\n",
    "    print(f'Root 2: {real_part} - {imaginary_part}i')"
   ]
  },
  {
   "cell_type": "markdown",
   "id": "f7bb48ff",
   "metadata": {},
   "source": [
    "Write a Python program to swap two variables without temp variable."
   ]
  },
  {
   "cell_type": "code",
   "execution_count": null,
   "id": "8583dede",
   "metadata": {},
   "outputs": [
    {
     "name": "stdout",
     "output_type": "stream",
     "text": [
      "the value of a is 10\n",
      "The value of b is 8.0\n"
     ]
    }
   ],
   "source": [
    "a = 5 \n",
    "b = 10\n",
    "\n",
    "a, b = b, c\n",
    "print(f'the value of a is {a}')\n",
    "print(f'The value of b is {b}')\n"
   ]
  },
  {
   "cell_type": "markdown",
   "id": "52bc450a",
   "metadata": {},
   "source": [
    "Write a Python Program to Check if a Number is Positive, Negative or Zero."
   ]
  },
  {
   "cell_type": "code",
   "execution_count": 6,
   "id": "5431c869",
   "metadata": {},
   "outputs": [
    {
     "name": "stdout",
     "output_type": "stream",
     "text": [
      "The number you have entered is negative.\n"
     ]
    }
   ],
   "source": [
    "num = int(input(\"Enter the number\"))\n",
    "if num == 0:\n",
    "    print(\"The number you have entered is zero\")\n",
    "elif num > 0:\n",
    "    print(\"The number you have entered is positve number\")\n",
    "else :\n",
    "    print('The number you have entered is negative.')"
   ]
  },
  {
   "cell_type": "markdown",
   "id": "d2814fbe",
   "metadata": {},
   "source": [
    "Write a Python Program to Check if a Number is Odd or Even."
   ]
  },
  {
   "cell_type": "code",
   "execution_count": 20,
   "id": "606391f3",
   "metadata": {},
   "outputs": [
    {
     "name": "stdout",
     "output_type": "stream",
     "text": [
      "The number is even.\n"
     ]
    }
   ],
   "source": [
    "rev = int(input(\"Enter the number\"))\n",
    "if (rev % 2) == 0:\n",
    "    print(\"The number is even.\")\n",
    "else:\n",
    "    print('The number is odd')"
   ]
  },
  {
   "cell_type": "markdown",
   "id": "09e6a13a",
   "metadata": {},
   "source": [
    "Write a Python Program to Check Leap Year."
   ]
  },
  {
   "cell_type": "code",
   "execution_count": null,
   "id": "db339316",
   "metadata": {},
   "outputs": [],
   "source": [
    "year = int(input(\"enter the year\"))\n",
    "\n",
    "if (year % 400 == 0) and (year % 100 == 0):\n",
    "    print(\"{0} is a leap year\".format(year))\n",
    "\n",
    "# not divided by 100 means not a century year \n",
    "# year divided by 4 is leap year \n",
    "elif(year % 4 == 0) and (year % 100 != 0):\n",
    "    print(\"{0} is leap year\".format(year))\n",
    "\n",
    "else: \n",
    "    print(\"{0} is not a leap year\".format(year))\n"
   ]
  },
  {
   "cell_type": "markdown",
   "id": "dec9126c",
   "metadata": {},
   "source": [
    "write a program to find average in python list"
   ]
  },
  {
   "cell_type": "code",
   "execution_count": 23,
   "id": "68f1448b",
   "metadata": {},
   "outputs": [
    {
     "name": "stdout",
     "output_type": "stream",
     "text": [
      "3.0\n"
     ]
    }
   ],
   "source": [
    "sum = 0\n",
    "lista = [1,2,3,4,5]\n",
    "for element in lista:\n",
    "    sum += element\n",
    "print(sum/len(lista))"
   ]
  },
  {
   "cell_type": "code",
   "execution_count": 7,
   "id": "3a308fbb",
   "metadata": {},
   "outputs": [
    {
     "name": "stdout",
     "output_type": "stream",
     "text": [
      "Product: Apple & Raisin Oat Bars\n",
      "Brand: deliciously ella\n",
      "Ingredients: Gluten Free Oats (44%), Rice Syrup, Coconut Oil, Raisins (8%), Coconut Sugar, Rapeseed Oil, Dried Apple Pieces (5%), Cinnamon (Cassia).\n",
      "\n",
      "Nutritional Information (per 100g):\n",
      "Calories: 426 kcal\n",
      "Fat: 17.4 g\n",
      "Sugars: 29 g\n",
      "Proteins: 5.6 g\n"
     ]
    }
   ],
   "source": [
    "import requests\n",
    "\n",
    "def get_food_nutrition(food_name):\n",
    "    # Construct the URL for the API call\n",
    "    url = f\"https://world.openfoodfacts.org/cgi/search.pl?search_terms={food_name}&json=true\"\n",
    "    \n",
    "    # Make the API request\n",
    "    response = requests.get(url)\n",
    "    \n",
    "    # If the request was successful\n",
    "    if response.status_code == 200:\n",
    "        data = response.json()\n",
    "        \n",
    "        # Check if we got any results\n",
    "        if data['count'] > 0:\n",
    "            # Extract the first product from the results\n",
    "            product = data['products'][0]\n",
    "            \n",
    "            # Extract product name and nutrition info\n",
    "            product_name = product.get('product_name', 'Unknown product')\n",
    "            brands = product.get('brands', 'Unknown brand')\n",
    "            ingredients = product.get('ingredients_text', 'No ingredients listed')\n",
    "            nutriments = product.get('nutriments', {})\n",
    "            \n",
    "            # Print the nutrition info\n",
    "            print(f\"Product: {product_name}\")\n",
    "            print(f\"Brand: {brands}\")\n",
    "            print(f\"Ingredients: {ingredients}\")\n",
    "            \n",
    "            # Display the nutrition data\n",
    "            print(\"\\nNutritional Information (per 100g):\")\n",
    "            print(f\"Calories: {nutriments.get('energy-kcal_100g', 'N/A')} kcal\")\n",
    "            print(f\"Fat: {nutriments.get('fat_100g', 'N/A')} g\")\n",
    "            print(f\"Sugars: {nutriments.get('sugars_100g', 'N/A')} g\")\n",
    "            print(f\"Proteins: {nutriments.get('proteins_100g', 'N/A')} g\")\n",
    "        else:\n",
    "            print(f\"No results found for '{food_name}'\")\n",
    "    else:\n",
    "        print(\"Failed to retrieve data. Please check your internet connection.\")\n",
    "\n",
    "# Example: Search for apple\n",
    "food_name = \"apple\"\n",
    "get_food_nutrition(food_name)\n"
   ]
  },
  {
   "cell_type": "code",
   "execution_count": 3,
   "id": "74cfebad",
   "metadata": {},
   "outputs": [
    {
     "name": "stdout",
     "output_type": "stream",
     "text": [
      "Collecting aiohttp\n",
      "  Downloading aiohttp-3.12.14-cp312-cp312-manylinux_2_17_x86_64.manylinux2014_x86_64.whl.metadata (7.6 kB)\n",
      "Collecting aiohappyeyeballs>=2.5.0 (from aiohttp)\n",
      "  Downloading aiohappyeyeballs-2.6.1-py3-none-any.whl.metadata (5.9 kB)\n",
      "Collecting aiosignal>=1.4.0 (from aiohttp)\n",
      "  Downloading aiosignal-1.4.0-py3-none-any.whl.metadata (3.7 kB)\n",
      "Requirement already satisfied: attrs>=17.3.0 in /home/jithin/Desktop/learn_python/venv/lib/python3.12/site-packages (from aiohttp) (25.3.0)\n",
      "Collecting frozenlist>=1.1.1 (from aiohttp)\n",
      "  Downloading frozenlist-1.7.0-cp312-cp312-manylinux_2_5_x86_64.manylinux1_x86_64.manylinux_2_17_x86_64.manylinux2014_x86_64.whl.metadata (18 kB)\n",
      "Collecting multidict<7.0,>=4.5 (from aiohttp)\n",
      "  Downloading multidict-6.6.3-cp312-cp312-manylinux2014_x86_64.manylinux_2_17_x86_64.manylinux_2_28_x86_64.whl.metadata (5.3 kB)\n",
      "Collecting propcache>=0.2.0 (from aiohttp)\n",
      "  Downloading propcache-0.3.2-cp312-cp312-manylinux_2_17_x86_64.manylinux2014_x86_64.whl.metadata (12 kB)\n",
      "Collecting yarl<2.0,>=1.17.0 (from aiohttp)\n",
      "  Downloading yarl-1.20.1-cp312-cp312-manylinux_2_17_x86_64.manylinux2014_x86_64.whl.metadata (73 kB)\n",
      "\u001b[2K     \u001b[90m━━━━━━━━━━━━━━━━━━━━━━━━━━━━━━━━━━━━━━━\u001b[0m \u001b[32m73.9/73.9 kB\u001b[0m \u001b[31m309.5 kB/s\u001b[0m eta \u001b[36m0:00:00\u001b[0ma \u001b[36m0:00:01\u001b[0m\n",
      "\u001b[?25hRequirement already satisfied: typing-extensions>=4.2 in /home/jithin/Desktop/learn_python/venv/lib/python3.12/site-packages (from aiosignal>=1.4.0->aiohttp) (4.13.2)\n",
      "Requirement already satisfied: idna>=2.0 in /home/jithin/Desktop/learn_python/venv/lib/python3.12/site-packages (from yarl<2.0,>=1.17.0->aiohttp) (3.10)\n",
      "Downloading aiohttp-3.12.14-cp312-cp312-manylinux_2_17_x86_64.manylinux2014_x86_64.whl (1.7 MB)\n",
      "\u001b[2K   \u001b[90m━━━━━━━━━━━━━━━━━━━━━━━━━━━━━━━━━━━━━━━━\u001b[0m \u001b[32m1.7/1.7 MB\u001b[0m \u001b[31m719.6 kB/s\u001b[0m eta \u001b[36m0:00:00\u001b[0m00:01\u001b[0m00:01\u001b[0m\n",
      "\u001b[?25hDownloading aiohappyeyeballs-2.6.1-py3-none-any.whl (15 kB)\n",
      "Downloading aiosignal-1.4.0-py3-none-any.whl (7.5 kB)\n",
      "Downloading frozenlist-1.7.0-cp312-cp312-manylinux_2_5_x86_64.manylinux1_x86_64.manylinux_2_17_x86_64.manylinux2014_x86_64.whl (241 kB)\n",
      "\u001b[2K   \u001b[90m━━━━━━━━━━━━━━━━━━━━━━━━━━━━━━━━━━━━━━━\u001b[0m \u001b[32m241.8/241.8 kB\u001b[0m \u001b[31m850.0 kB/s\u001b[0m eta \u001b[36m0:00:00\u001b[0ma \u001b[36m0:00:01\u001b[0m\n",
      "\u001b[?25hDownloading multidict-6.6.3-cp312-cp312-manylinux2014_x86_64.manylinux_2_17_x86_64.manylinux_2_28_x86_64.whl (256 kB)\n",
      "\u001b[2K   \u001b[90m━━━━━━━━━━━━━━━━━━━━━━━━━━━━━━━━━━━━━━━━\u001b[0m \u001b[32m256.1/256.1 kB\u001b[0m \u001b[31m1.0 MB/s\u001b[0m eta \u001b[36m0:00:00\u001b[0ma \u001b[36m0:00:01\u001b[0m\n",
      "\u001b[?25hDownloading propcache-0.3.2-cp312-cp312-manylinux_2_17_x86_64.manylinux2014_x86_64.whl (224 kB)\n",
      "\u001b[2K   \u001b[90m━━━━━━━━━━━━━━━━━━━━━━━━━━━━━━━━━━━━━━━\u001b[0m \u001b[32m224.4/224.4 kB\u001b[0m \u001b[31m779.9 kB/s\u001b[0m eta \u001b[36m0:00:00\u001b[0ma \u001b[36m0:00:01\u001b[0m\n",
      "\u001b[?25hDownloading yarl-1.20.1-cp312-cp312-manylinux_2_17_x86_64.manylinux2014_x86_64.whl (355 kB)\n",
      "\u001b[2K   \u001b[90m━━━━━━━━━━━━━━━━━━━━━━━━━━━━━━━━━━━━━━━\u001b[0m \u001b[32m355.6/355.6 kB\u001b[0m \u001b[31m856.8 kB/s\u001b[0m eta \u001b[36m0:00:00\u001b[0ma \u001b[36m0:00:01\u001b[0m\n",
      "\u001b[?25hInstalling collected packages: propcache, multidict, frozenlist, aiohappyeyeballs, yarl, aiosignal, aiohttp\n",
      "Successfully installed aiohappyeyeballs-2.6.1 aiohttp-3.12.14 aiosignal-1.4.0 frozenlist-1.7.0 multidict-6.6.3 propcache-0.3.2 yarl-1.20.1\n",
      "Note: you may need to restart the kernel to use updated packages.\n"
     ]
    }
   ],
   "source": [
    "pip install  aiohttp"
   ]
  },
  {
   "cell_type": "code",
   "execution_count": 4,
   "id": "6abf0003",
   "metadata": {},
   "outputs": [
    {
     "name": "stdout",
     "output_type": "stream",
     "text": [
      "Requirement already satisfied: nest_asyncio in /home/jithin/Desktop/learn_python/venv/lib/python3.12/site-packages (1.6.0)\n",
      "Note: you may need to restart the kernel to use updated packages.\n"
     ]
    }
   ],
   "source": [
    "pip install nest_asyncio\n"
   ]
  },
  {
   "cell_type": "code",
   "execution_count": 5,
   "id": "0bbfa9f8",
   "metadata": {},
   "outputs": [],
   "source": [
    "import nest_asyncio\n",
    "nest_asyncio.apply()"
   ]
  },
  {
   "cell_type": "code",
   "execution_count": 9,
   "id": "a0de44dd",
   "metadata": {},
   "outputs": [],
   "source": [
    "import asyncio\n",
    "import aiohttp\n",
    "import time \n",
    "\n",
    "# List for URLs to fetch from httpbin (delays 2 seconds per request)\n",
    "ulrs = [\n",
    "    \"https://httpbin.org/delay/2\",\n",
    "    \"https://httpbin.org/delay/2\",\n",
    "    \"https://httpbin.org/delay/2\",\n",
    "]\n",
    "\n",
    "# Async function to fetch a url \n",
    "async def fetch(session, url):\n",
    "    async with session.get(url) as response:\n",
    "        print(f'Fetched from {url}')\n",
    "        return await response.text()\n",
    "    \n",
    "# Async function to run all fetch tasks \n",
    "async def fetch_all():\n",
    "    async with aiohttp.ClientSession() as session:\n",
    "        tasks = [fetch(session, url) for url in ulrs]\n",
    "        results = await asyncio.gather(*tasks)\n",
    "        return results\n",
    "\n"
   ]
  },
  {
   "cell_type": "code",
   "execution_count": 10,
   "id": "8f629871",
   "metadata": {},
   "outputs": [
    {
     "name": "stdout",
     "output_type": "stream",
     "text": [
      "Fetched from https://httpbin.org/delay/2\n",
      "Fetched from https://httpbin.org/delay/2\n",
      "Fetched from https://httpbin.org/delay/2\n",
      " \n",
      "Fetched 3 URLs in 15.29 seconds \n"
     ]
    }
   ],
   "source": [
    "start = time.time()\n",
    "results = await fetch_all()\n",
    "end = time.time()\n",
    "\n",
    "print(f' \\nFetched {len(results)} URLs in {round(end - start, 2)} seconds ')"
   ]
  },
  {
   "cell_type": "code",
   "execution_count": 10,
   "id": "41110e74",
   "metadata": {},
   "outputs": [
    {
     "name": "stdout",
     "output_type": "stream",
     "text": [
      "False\n"
     ]
    },
    {
     "data": {
      "text/plain": [
       "[1, 2, 3]"
      ]
     },
     "execution_count": 10,
     "metadata": {},
     "output_type": "execute_result"
    }
   ],
   "source": [
    "def add_1(x):\n",
    "    x = [1, 2]\n",
    "    x.append(4)\n",
    "    print(x is a)\n",
    "\n",
    "a = [1, 2, 3]\n",
    "add_1(a)\n",
    "a"
   ]
  },
  {
   "cell_type": "code",
   "execution_count": 13,
   "id": "dd136396",
   "metadata": {},
   "outputs": [
    {
     "name": "stdout",
     "output_type": "stream",
     "text": [
      "basic_python.ipynb  problem_and_solutions.ipynb  README.md\n"
     ]
    }
   ],
   "source": [
    "!ls"
   ]
  },
  {
   "cell_type": "code",
   "execution_count": null,
   "id": "d006637d",
   "metadata": {},
   "outputs": [
    {
     "name": "stdout",
     "output_type": "stream",
     "text": [
      "['{\\n', ' \"cells\": [\\n', '  {\\n', '   \"cell_type\": \"code\",\\n', '   \"execution_count\": 1,\\n', '   \"id\": \"c00d4bf8\",\\n', '   \"metadata\": {},\\n', '   \"outputs\": [\\n', '    {\\n', '     \"name\": \"stdout\",\\n', '     \"output_type\": \"stream\",\\n', '     \"text\": [\\n', '      \"/home/jithin/Desktop/learn_python/venv/bin/python\\\\n\"\\n', '     ]\\n', '    }\\n', '   ],\\n', '   \"source\": [\\n', '    \"import sys\\\\n\",\\n', '    \"print(sys.executable)\"\\n', '   ]\\n', '  },\\n', '  {\\n', '   \"cell_type\": \"code\",\\n', '   \"execution_count\": 3,\\n', '   \"id\": \"c78ed8a0\",\\n', '   \"metadata\": {},\\n', '   \"outputs\": [\\n', '    {\\n', '     \"name\": \"stdout\",\\n', '     \"output_type\": \"stream\",\\n', '     \"text\": [\\n', '      \"0\\\\n\",\\n', '      \"1\\\\n\",\\n', '      \"2\\\\n\",\\n', '      \"3\\\\n\",\\n', '      \"4\\\\n\",\\n', '      \"5\\\\n\"\\n', '     ]\\n', '    }\\n', '   ],\\n', '   \"source\": [\\n', '    \"def my_generator(n):\\\\n\",\\n', '    \"    for i in range(n):\\\\n\",\\n', '    \"        yield i\\\\n\",\\n', '    \"\\\\n\",\\n', '    \"for num in my_generator(6):\\\\n\",\\n', '    \"    print(num)\"\\n', '   ]\\n', '  },\\n', '  {\\n', '   \"cell_type\": \"code\",\\n', '   \"execution_count\": 23,\\n', '   \"id\": \"48d2131c\",\\n', '   \"metadata\": {},\\n', '   \"outputs\": [],\\n', '   \"source\": [\\n', '    \"eg_generator = my_generator(100)\"\\n', '   ]\\n', '  },\\n', '  {\\n', '   \"cell_type\": \"code\",\\n', '   \"execution_count\": 5,\\n', '   \"id\": \"ee783f6c\",\\n', '   \"metadata\": {},\\n', '   \"outputs\": [\\n', '    {\\n', '     \"name\": \"stdout\",\\n', '     \"output_type\": \"stream\",\\n', '     \"text\": [\\n', '      \"<generator object my_generator at 0x78f7253c7780>\\\\n\"\\n', '     ]\\n', '    }\\n', '   ],\\n', '   \"source\": [\\n', '    \"print(eg_generator)\"\\n', '   ]\\n', '  },\\n', '  {\\n', '   \"cell_type\": \"code\",\\n', '   \"execution_count\": 162,\\n', '   \"id\": \"49873086\",\\n', '   \"metadata\": {},\\n', '   \"outputs\": [\\n', '    {\\n', '     \"name\": \"stdout\",\\n', '     \"output_type\": \"stream\",\\n', '     \"text\": [\\n', '      \"No more iteration are here to happen.\\\\n\"\\n', '     ]\\n', '    }\\n', '   ],\\n', '   \"source\": [\\n', '    \"try:\\\\n\",\\n', '    \"    print(next(eg_generator))\\\\n\",\\n', '    \"except StopIteration:\\\\n\",\\n', '    \"    print(\\\\\"No more iteration are here to happen.\\\\\")\\\\n\"\\n', '   ]\\n', '  }\\n', ' ],\\n', ' \"metadata\": {\\n', '  \"kernelspec\": {\\n', '   \"display_name\": \"venv\",\\n', '   \"language\": \"python\",\\n', '   \"name\": \"python3\"\\n', '  },\\n', '  \"language_info\": {\\n', '   \"codemirror_mode\": {\\n', '    \"name\": \"ipython\",\\n', '    \"version\": 3\\n', '   },\\n', '   \"file_extension\": \".py\",\\n', '   \"mimetype\": \"text/x-python\",\\n', '   \"name\": \"python\",\\n', '   \"nbconvert_exporter\": \"python\",\\n', '   \"pygments_lexer\": \"ipython3\",\\n', '   \"version\": \"3.12.3\"\\n', '  }\\n', ' },\\n', ' \"nbformat\": 4,\\n', ' \"nbformat_minor\": 5\\n', '}\\n']\n"
     ]
    }
   ],
   "source": [
    "with open('basic_python.ipynb', 'r') as f:\n",
    "    print(f.readlines())"
   ]
  },
  {
   "cell_type": "code",
   "execution_count": 17,
   "id": "d970943e",
   "metadata": {},
   "outputs": [
    {
     "name": "stdout",
     "output_type": "stream",
     "text": [
      "Help on function open in module _io:\n",
      "\n",
      "open(file, mode='r', buffering=-1, encoding=None, errors=None, newline=None, closefd=True, opener=None)\n",
      "    Open file and return a stream.  Raise OSError upon failure.\n",
      "\n",
      "    file is either a text or byte string giving the name (and the path\n",
      "    if the file isn't in the current working directory) of the file to\n",
      "    be opened or an integer file descriptor of the file to be\n",
      "    wrapped. (If a file descriptor is given, it is closed when the\n",
      "    returned I/O object is closed, unless closefd is set to False.)\n",
      "\n",
      "    mode is an optional string that specifies the mode in which the file\n",
      "    is opened. It defaults to 'r' which means open for reading in text\n",
      "    mode.  Other common values are 'w' for writing (truncating the file if\n",
      "    it already exists), 'x' for creating and writing to a new file, and\n",
      "    'a' for appending (which on some Unix systems, means that all writes\n",
      "    append to the end of the file regardless of the current seek position).\n",
      "    In text mode, if encoding is not specified the encoding used is platform\n",
      "    dependent: locale.getencoding() is called to get the current locale encoding.\n",
      "    (For reading and writing raw bytes use binary mode and leave encoding\n",
      "    unspecified.) The available modes are:\n",
      "\n",
      "    ========= ===============================================================\n",
      "    Character Meaning\n",
      "    --------- ---------------------------------------------------------------\n",
      "    'r'       open for reading (default)\n",
      "    'w'       open for writing, truncating the file first\n",
      "    'x'       create a new file and open it for writing\n",
      "    'a'       open for writing, appending to the end of the file if it exists\n",
      "    'b'       binary mode\n",
      "    't'       text mode (default)\n",
      "    '+'       open a disk file for updating (reading and writing)\n",
      "    ========= ===============================================================\n",
      "\n",
      "    The default mode is 'rt' (open for reading text). For binary random\n",
      "    access, the mode 'w+b' opens and truncates the file to 0 bytes, while\n",
      "    'r+b' opens the file without truncation. The 'x' mode implies 'w' and\n",
      "    raises an `FileExistsError` if the file already exists.\n",
      "\n",
      "    Python distinguishes between files opened in binary and text modes,\n",
      "    even when the underlying operating system doesn't. Files opened in\n",
      "    binary mode (appending 'b' to the mode argument) return contents as\n",
      "    bytes objects without any decoding. In text mode (the default, or when\n",
      "    't' is appended to the mode argument), the contents of the file are\n",
      "    returned as strings, the bytes having been first decoded using a\n",
      "    platform-dependent encoding or using the specified encoding if given.\n",
      "\n",
      "    buffering is an optional integer used to set the buffering policy.\n",
      "    Pass 0 to switch buffering off (only allowed in binary mode), 1 to select\n",
      "    line buffering (only usable in text mode), and an integer > 1 to indicate\n",
      "    the size of a fixed-size chunk buffer.  When no buffering argument is\n",
      "    given, the default buffering policy works as follows:\n",
      "\n",
      "    * Binary files are buffered in fixed-size chunks; the size of the buffer\n",
      "      is chosen using a heuristic trying to determine the underlying device's\n",
      "      \"block size\" and falling back on `io.DEFAULT_BUFFER_SIZE`.\n",
      "      On many systems, the buffer will typically be 4096 or 8192 bytes long.\n",
      "\n",
      "    * \"Interactive\" text files (files for which isatty() returns True)\n",
      "      use line buffering.  Other text files use the policy described above\n",
      "      for binary files.\n",
      "\n",
      "    encoding is the name of the encoding used to decode or encode the\n",
      "    file. This should only be used in text mode. The default encoding is\n",
      "    platform dependent, but any encoding supported by Python can be\n",
      "    passed.  See the codecs module for the list of supported encodings.\n",
      "\n",
      "    errors is an optional string that specifies how encoding errors are to\n",
      "    be handled---this argument should not be used in binary mode. Pass\n",
      "    'strict' to raise a ValueError exception if there is an encoding error\n",
      "    (the default of None has the same effect), or pass 'ignore' to ignore\n",
      "    errors. (Note that ignoring encoding errors can lead to data loss.)\n",
      "    See the documentation for codecs.register or run 'help(codecs.Codec)'\n",
      "    for a list of the permitted encoding error strings.\n",
      "\n",
      "    newline controls how universal newlines works (it only applies to text\n",
      "    mode). It can be None, '', '\\n', '\\r', and '\\r\\n'.  It works as\n",
      "    follows:\n",
      "\n",
      "    * On input, if newline is None, universal newlines mode is\n",
      "      enabled. Lines in the input can end in '\\n', '\\r', or '\\r\\n', and\n",
      "      these are translated into '\\n' before being returned to the\n",
      "      caller. If it is '', universal newline mode is enabled, but line\n",
      "      endings are returned to the caller untranslated. If it has any of\n",
      "      the other legal values, input lines are only terminated by the given\n",
      "      string, and the line ending is returned to the caller untranslated.\n",
      "\n",
      "    * On output, if newline is None, any '\\n' characters written are\n",
      "      translated to the system default line separator, os.linesep. If\n",
      "      newline is '' or '\\n', no translation takes place. If newline is any\n",
      "      of the other legal values, any '\\n' characters written are translated\n",
      "      to the given string.\n",
      "\n",
      "    If closefd is False, the underlying file descriptor will be kept open\n",
      "    when the file is closed. This does not work when a file name is given\n",
      "    and must be True in that case.\n",
      "\n",
      "    A custom opener can be used by passing a callable as *opener*. The\n",
      "    underlying file descriptor for the file object is then obtained by\n",
      "    calling *opener* with (*file*, *flags*). *opener* must return an open\n",
      "    file descriptor (passing os.open as *opener* results in functionality\n",
      "    similar to passing None).\n",
      "\n",
      "    open() returns a file object whose type depends on the mode, and\n",
      "    through which the standard file operations such as reading and writing\n",
      "    are performed. When open() is used to open a file in a text mode ('w',\n",
      "    'r', 'wt', 'rt', etc.), it returns a TextIOWrapper. When used to open\n",
      "    a file in a binary mode, the returned class varies: in read binary\n",
      "    mode, it returns a BufferedReader; in write binary and append binary\n",
      "    modes, it returns a BufferedWriter, and in read/write mode, it returns\n",
      "    a BufferedRandom.\n",
      "\n",
      "    It is also possible to use a string or bytearray as a file for both\n",
      "    reading and writing. For strings StringIO can be used like a file\n",
      "    opened in a text mode, and for bytes a BytesIO can be used like a file\n",
      "    opened in a binary mode.\n",
      "\n",
      "None\n"
     ]
    }
   ],
   "source": [
    "print(help(open))"
   ]
  },
  {
   "cell_type": "code",
   "execution_count": 2,
   "id": "e1e611ff",
   "metadata": {},
   "outputs": [
    {
     "name": "stdout",
     "output_type": "stream",
     "text": [
      "Logical CPUs (with hyper-threading): 12\n",
      "Physical CPU cores: 6\n"
     ]
    }
   ],
   "source": [
    "import os\n",
    "import psutil\n",
    "\n",
    "# Logical CPUs (includes hyper-threading)\n",
    "logical_cpus = os.cpu_count()\n",
    "\n",
    "# Physical cores (real cores, no hyper-threading)\n",
    "physical_cores = psutil.cpu_count(logical=False)\n",
    "\n",
    "print(f\"Logical CPUs (with hyper-threading): {logical_cpus}\")\n",
    "print(f\"Physical CPU cores: {physical_cores}\")\n",
    "\n"
   ]
  },
  {
   "cell_type": "code",
   "execution_count": null,
   "id": "4f9d93f8",
   "metadata": {},
   "outputs": [
    {
     "data": {
      "text/plain": [
       "144"
      ]
     },
     "execution_count": 2,
     "metadata": {},
     "output_type": "execute_result"
    }
   ],
   "source": [
    "#Recursion\n",
    "def f(n):\n",
    "    if n==0:\n",
    "        return 0\n",
    "    elif n == 1:\n",
    "        return 1\n",
    "    else:\n",
    "        return f(n - 1) + f(n - 2)\n",
    "f(12)"
   ]
  },
  {
   "cell_type": "code",
   "execution_count": 6,
   "id": "456d30c0",
   "metadata": {},
   "outputs": [],
   "source": [
    "a = [1, 3,4,5,6,7,8,9]"
   ]
  },
  {
   "cell_type": "code",
   "execution_count": 11,
   "id": "981e271f",
   "metadata": {},
   "outputs": [
    {
     "data": {
      "text/plain": [
       "True"
      ]
     },
     "execution_count": 11,
     "metadata": {},
     "output_type": "execute_result"
    }
   ],
   "source": [
    "# Traditional Binary search - Looking up if number is in array:\n",
    "# Time : O(log n)\n",
    "# Space: O(1)\n",
    "\n",
    "\n",
    "def binary_search(arr, target):\n",
    "    N = len(arr)\n",
    "    L = 0\n",
    "    R = N - 1\n",
    "    while L <= R:\n",
    "        M = L + ((R-L) // 2)\n",
    "\n",
    "        if arr[M] == target:\n",
    "            return True\n",
    "        elif target < arr[M]:\n",
    "            R = M - 1\n",
    "        else:\n",
    "            L = M + 1\n",
    "    return False\n",
    "\n",
    "binary_search(a, 8)"
   ]
  },
  {
   "cell_type": "code",
   "execution_count": 1,
   "id": "cf8b9353",
   "metadata": {},
   "outputs": [
    {
     "data": {
      "text/plain": [
       "3"
      ]
     },
     "execution_count": 1,
     "metadata": {},
     "output_type": "execute_result"
    }
   ],
   "source": [
    "# Condition based \n",
    "B = [False, False, False, True, True, True, True]\n",
    "\n",
    "def binary_search_condition(arr):\n",
    "    N = len(arr)\n",
    "    L = 0\n",
    "    R = N - 1\n",
    "\n",
    "    while L < R:\n",
    "        M = (L + R) // 2\n",
    "\n",
    "        if B[M]:\n",
    "            R = M\n",
    "        else:\n",
    "            L = M + 1\n",
    "    return L \n",
    "\n",
    "binary_search_condition(B)"
   ]
  },
  {
   "cell_type": "code",
   "execution_count": 15,
   "id": "be31ca12",
   "metadata": {},
   "outputs": [],
   "source": [
    "string = 'hi there this is a string.'   \n",
    "rev = ''\n",
    "point  = len(string) - 1"
   ]
  },
  {
   "cell_type": "code",
   "execution_count": 2,
   "id": "d2529b6a",
   "metadata": {},
   "outputs": [
    {
     "name": "stdout",
     "output_type": "stream",
     "text": [
      "rev\n"
     ]
    }
   ],
   "source": [
    "# for i in string:\n",
    "    \n",
    "\n",
    "print('rev')"
   ]
  },
  {
   "cell_type": "code",
   "execution_count": 4,
   "id": "39591973",
   "metadata": {},
   "outputs": [
    {
     "name": "stdout",
     "output_type": "stream",
     "text": [
      "12.0\n"
     ]
    }
   ],
   "source": [
    "print(8+2*(6-3)*2/3)"
   ]
  },
  {
   "cell_type": "code",
   "execution_count": 21,
   "id": "391bd07f",
   "metadata": {},
   "outputs": [
    {
     "name": "stdout",
     "output_type": "stream",
     "text": [
      ".gnirts a si siht ereht ih\n"
     ]
    }
   ],
   "source": [
    "while (0 <= point):\n",
    "    \n",
    "    rev += string[point]\n",
    "    \n",
    "    point -= 1\n",
    "print(rev)\n"
   ]
  }
 ],
 "metadata": {
  "kernelspec": {
   "display_name": "venv",
   "language": "python",
   "name": "python3"
  },
  "language_info": {
   "codemirror_mode": {
    "name": "ipython",
    "version": 3
   },
   "file_extension": ".py",
   "mimetype": "text/x-python",
   "name": "python",
   "nbconvert_exporter": "python",
   "pygments_lexer": "ipython3",
   "version": "3.12.3"
  }
 },
 "nbformat": 4,
 "nbformat_minor": 5
}
