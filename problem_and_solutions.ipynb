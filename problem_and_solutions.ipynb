{
 "cells": [
  {
   "cell_type": "code",
   "execution_count": 1,
   "id": "34fbf140",
   "metadata": {},
   "outputs": [
    {
     "name": "stdout",
     "output_type": "stream",
     "text": [
      "/home/jithin/Desktop/learn_python/venv/bin/python\n"
     ]
    }
   ],
   "source": [
    "import sys\n",
    "print(sys.executable)"
   ]
  },
  {
   "cell_type": "markdown",
   "id": "9e4dba16",
   "metadata": {},
   "source": [
    "# Program to find the number of digits in a given number."
   ]
  },
  {
   "cell_type": "code",
   "execution_count": null,
   "id": "49b4a120",
   "metadata": {},
   "outputs": [
    {
     "name": "stdout",
     "output_type": "stream",
     "text": [
      "4\n"
     ]
    }
   ],
   "source": [
    "def numofdigit(N):\n",
    "    count = 0\n",
    "    while (N > 0):\n",
    "        count += 1\n",
    "        N = int(N / 10)\n",
    "    return count\n",
    "\n",
    "print(numofdigit(9999))"
   ]
  },
  {
   "cell_type": "markdown",
   "id": "5bb8042f",
   "metadata": {},
   "source": [
    "# Write a program to remove the key-value of dictionary where the length of key-value is above 3."
   ]
  },
  {
   "cell_type": "code",
   "execution_count": 22,
   "id": "0c077c11",
   "metadata": {},
   "outputs": [
    {
     "name": "stdout",
     "output_type": "stream",
     "text": [
      "{'number pattern': 78, 'name': 'Trump'}\n"
     ]
    }
   ],
   "source": [
    "def popdict(dictionary):\n",
    "    pop_value = []\n",
    "    for sub_dict in dictionary:\n",
    "        if isinstance(dictionary[sub_dict], str) and len(sub_dict) > 4:\n",
    "            pop_value.append(sub_dict)\n",
    "\n",
    "    for value in pop_value:\n",
    "        dictionary.pop(value)\n",
    "    return dictionary\n",
    "\n",
    "print(popdict(dictionary = {'country': 'India', 'number pattern': 78, 'name': 'Trump', 'Blood Group': 'B+'}))"
   ]
  },
  {
   "cell_type": "markdown",
   "id": "f508dc11",
   "metadata": {},
   "source": [
    "# Write a program to find the number is palindrome or not"
   ]
  },
  {
   "cell_type": "code",
   "execution_count": 54,
   "id": "cc23baaf",
   "metadata": {},
   "outputs": [
    {
     "name": "stdout",
     "output_type": "stream",
     "text": [
      "True \n",
      "False\n"
     ]
    }
   ],
   "source": [
    "\n",
    "def numpalindrome(N):\n",
    "    realnumber = int(N)\n",
    "    reverse = ''\n",
    "    while (N > 0):\n",
    "        reverse = reverse + str(N % 10)\n",
    "        N = N // 10\n",
    "    if realnumber == int(reverse):\n",
    "        return True\n",
    "    else:\n",
    "        return False\n",
    "\n",
    "print(f'{numpalindrome(12321)} \\n{numpalindrome(12345)}')"
   ]
  },
  {
   "cell_type": "code",
   "execution_count": null,
   "id": "f23f6349",
   "metadata": {},
   "outputs": [],
   "source": [
    "# To Try copy of an variable \n",
    "import copy\n",
    "varial = 1237\n",
    "copydfd = copy.copy(varial)"
   ]
  },
  {
   "cell_type": "markdown",
   "id": "485cc634",
   "metadata": {},
   "source": [
    "# Write a program to find the given number is armstrong or not"
   ]
  },
  {
   "cell_type": "code",
   "execution_count": 113,
   "id": "88c61f20",
   "metadata": {},
   "outputs": [
    {
     "name": "stdout",
     "output_type": "stream",
     "text": [
      "153\n"
     ]
    }
   ],
   "source": [
    "# first extracts the digits the number \n",
    "# extract the single digit by module operation by 10\n",
    "# Use a variable to set the value 0, here you neeed the add the cube of the single digits while itrarating\n",
    "# Use floor division to remove the division to remove the point value thus u can remove single digit here \n",
    "\n",
    "def armstrong(N):\n",
    "    sumcube = 0\n",
    "    while (N > 0):\n",
    "        lastdigit = N % 10\n",
    "        sumcube = sumcube + (lastdigit ** 3)\n",
    "        N = N // 10\n",
    "    return sumcube\n",
    "\n",
    "print(armstrong(153))"
   ]
  },
  {
   "cell_type": "markdown",
   "id": "10affc73",
   "metadata": {},
   "source": [
    "# Print all divisors of a number."
   ]
  },
  {
   "cell_type": "code",
   "execution_count": 12,
   "id": "8eb9bd20",
   "metadata": {},
   "outputs": [
    {
     "name": "stdout",
     "output_type": "stream",
     "text": [
      "[1, 2, 3, 4, 6, 9, 12, 18]\n"
     ]
    }
   ],
   "source": [
    "def divisor(n):\n",
    "    _ = []\n",
    "    for i in range(1,n):\n",
    "        if (n % i) == 0:\n",
    "            _.append(i)\n",
    "    return _\n",
    "        \n",
    "print(divisor(36))"
   ]
  },
  {
   "cell_type": "markdown",
   "id": "722463da",
   "metadata": {},
   "source": [
    "# Write a python program to find reverse of a list without using any builtin method."
   ]
  },
  {
   "cell_type": "code",
   "execution_count": 1,
   "id": "5ce1a3c8",
   "metadata": {},
   "outputs": [
    {
     "name": "stdout",
     "output_type": "stream",
     "text": [
      "[7, 6, 5, 4, 3, 2, 1]\n"
     ]
    }
   ],
   "source": [
    "def revlist(l):\n",
    "    length = len(l)-1\n",
    "    reverse = []\n",
    "    while (length >=0):\n",
    "        reverse.append(l[length])\n",
    "        length -= 1\n",
    "    return reverse\n",
    "\n",
    "print(revlist([1,2,3,4,5,6,7]))"
   ]
  },
  {
   "cell_type": "markdown",
   "id": "f305ca66",
   "metadata": {},
   "source": [
    "# write a recursion function for fibbinocci series."
   ]
  },
  {
   "cell_type": "code",
   "execution_count": null,
   "id": "6c20d60d",
   "metadata": {},
   "outputs": [],
   "source": [
    "def fibbinoci(n):\n",
    "    if n == 1 or n == 2:\n",
    "        return 1\n",
    "    return fibbinoci(n-1) + fibbinoci(2)"
   ]
  },
  {
   "cell_type": "markdown",
   "id": "27128066",
   "metadata": {},
   "source": [
    "# Write a function to get the index value of 2nd occurance of a given element."
   ]
  },
  {
   "cell_type": "code",
   "execution_count": 54,
   "id": "05775a49",
   "metadata": {},
   "outputs": [
    {
     "name": "stdout",
     "output_type": "stream",
     "text": [
      "4\n"
     ]
    }
   ],
   "source": [
    "def indx2nd(string, element_to_Find):\n",
    "    count = 0\n",
    "    length = len(string) - 1\n",
    "    for index in range(0, length, 1):\n",
    "        if string[index] == element_to_Find:\n",
    "            count += 1\n",
    "        if count == 2:\n",
    "            return index\n",
    "        \n",
    "print(indx2nd('jithin', 'i'))"
   ]
  },
  {
   "cell_type": "markdown",
   "id": "dc00315c",
   "metadata": {},
   "source": [
    "# Program to find the all second occurance of an element and its index value."
   ]
  },
  {
   "cell_type": "code",
   "execution_count": 23,
   "id": "fbf94e81",
   "metadata": {},
   "outputs": [
    {
     "name": "stdout",
     "output_type": "stream",
     "text": [
      "{'s': 1, 'm': 6}\n"
     ]
    }
   ],
   "source": [
    "def scndocc(string):\n",
    "    duplicates = {}\n",
    "    listvalue = []\n",
    "    length = len(string) - 1\n",
    "    for index in range(length):\n",
    "        if string[index] in listvalue:\n",
    "            duplicates[string[index]] = index\n",
    "        listvalue.append(string[index])\n",
    "    return duplicates\n",
    "\n",
    "print(scndocc('ssunammi'))"
   ]
  },
  {
   "cell_type": "markdown",
   "id": "af3b6fbc",
   "metadata": {},
   "source": [
    "# Find the Runner-Up Score!\n",
    "- hacker rank one\n",
    "Given the participants' score sheet for your University Sports Day, you are required to find the runner-up score. You are given\n",
    "\n",
    "scores. Store them in a list and find the score of the runner-up.\n",
    "\n",
    "Input Format\n",
    "\n",
    "The first line contains\n",
    ". The second line contains an array of\n",
    "\n",
    "integers each separated by a space.\n",
    "\n",
    "Constraints\n",
    "\n",
    "Output Format\n",
    "\n",
    "Print the runner-up score.    "
   ]
  },
  {
   "cell_type": "code",
   "execution_count": 27,
   "id": "3933fd20",
   "metadata": {},
   "outputs": [
    {
     "ename": "ValueError",
     "evalue": "invalid literal for int() with base 10: \"5'\"",
     "output_type": "error",
     "traceback": [
      "\u001b[31m---------------------------------------------------------------------------\u001b[39m",
      "\u001b[31mValueError\u001b[39m                                Traceback (most recent call last)",
      "\u001b[36mCell\u001b[39m\u001b[36m \u001b[39m\u001b[32mIn[27]\u001b[39m\u001b[32m, line 1\u001b[39m\n\u001b[32m----> \u001b[39m\u001b[32m1\u001b[39m n = \u001b[38;5;28;43mint\u001b[39;49m\u001b[43m(\u001b[49m\u001b[38;5;28;43minput\u001b[39;49m\u001b[43m(\u001b[49m\u001b[43m)\u001b[49m\u001b[43m)\u001b[49m\n\u001b[32m      2\u001b[39m arr = \u001b[38;5;28mmap\u001b[39m(\u001b[38;5;28mint\u001b[39m, \u001b[38;5;28minput\u001b[39m().split())\n\u001b[32m      3\u001b[39m arr = \u001b[38;5;28mset\u001b[39m(arr)\n",
      "\u001b[31mValueError\u001b[39m: invalid literal for int() with base 10: \"5'\""
     ]
    }
   ],
   "source": [
    "n = int(input())\n",
    "arr = map(int, input().split())\n",
    "arr = set(arr)\n",
    "arr = sorted([ i for i in arr])\n",
    "print(arr[-2])"
   ]
  },
  {
   "cell_type": "markdown",
   "id": "b33edf26",
   "metadata": {},
   "source": [
    "## task hackerrank \n",
    "Task\n",
    "Given an integer, , and space-separated integers as input, create a tuple, , of those integers. Then compute and print the result of . "
   ]
  },
  {
   "cell_type": "code",
   "execution_count": 6,
   "id": "08b52795",
   "metadata": {},
   "outputs": [
    {
     "name": "stdout",
     "output_type": "stream",
     "text": [
      "-860454829093830431\n"
     ]
    }
   ],
   "source": [
    "n = int(input())\n",
    "integer_list = map(int, input().split())\n",
    "t = tuple(integer_list)\n",
    "print(hash(t))\n",
    "\n"
   ]
  },
  {
   "cell_type": "markdown",
   "id": "e3392d26",
   "metadata": {},
   "source": [
    "The provided code stub will read in a dictionary containing key/value pairs of name:[marks] for a list of students. Print the average of the marks array for the student name provided, showing 2 places after the decimal.\n",
    "\n",
    "Example\n",
    "\n",
    "\n",
    "\n",
    "The query_name is 'beta'. beta's average score is "
   ]
  },
  {
   "cell_type": "code",
   "execution_count": 31,
   "id": "b69e9141",
   "metadata": {},
   "outputs": [
    {
     "name": "stdout",
     "output_type": "stream",
     "text": [
      "168.0\n",
      "56.000000\n"
     ]
    }
   ],
   "source": [
    "if __name__ == '__main__':\n",
    "    n = int(input())\n",
    "    student_marks = {}\n",
    "    for _ in range(n):\n",
    "        name, *line = input().split()\n",
    "        scores = list(map(float, line))\n",
    "        student_marks[name] = scores\n",
    "    query_name = input()\n"
   ]
  },
  {
   "cell_type": "code",
   "execution_count": 47,
   "id": "eff0e080",
   "metadata": {},
   "outputs": [
    {
     "name": "stdout",
     "output_type": "stream",
     "text": [
      "56.00\n"
     ]
    }
   ],
   "source": [
    "sum = 0\n",
    "for mark in student_marks[query_name]:\n",
    "    sum += mark\n",
    "avg = sum / (len(student_marks[query_name]))  \n",
    "print(f'{avg:.2f}')"
   ]
  },
  {
   "cell_type": "markdown",
   "id": "c80b3a00",
   "metadata": {},
   "source": [
    "In Python, a string of text can be aligned left, right and center.\n",
    "\n",
    ".ljust(width)\n",
    "\n",
    "This method returns a left aligned string of length width."
   ]
  },
  {
   "cell_type": "code",
   "execution_count": 79,
   "id": "86ce0c4b",
   "metadata": {},
   "outputs": [
    {
     "name": "stdout",
     "output_type": "stream",
     "text": [
      "    H    \n",
      "   HHH   \n",
      "  HHHHH  \n",
      " HHHHHHH \n",
      "HHHHHHHHH\n",
      "  HHHHH               HHHHH             \n",
      "  HHHHH               HHHHH             \n",
      "  HHHHH               HHHHH             \n",
      "  HHHHH               HHHHH             \n",
      "  HHHHH               HHHHH             \n",
      "  HHHHH               HHHHH             \n",
      "  HHHHHHHHHHHHHHHHHHHHHHHHH   \n",
      "  HHHHHHHHHHHHHHHHHHHHHHHHH   \n",
      "  HHHHHHHHHHHHHHHHHHHHHHHHH   \n",
      "  HHHHH               HHHHH             \n",
      "  HHHHH               HHHHH             \n",
      "  HHHHH               HHHHH             \n",
      "  HHHHH               HHHHH             \n",
      "  HHHHH               HHHHH             \n",
      "  HHHHH               HHHHH             \n",
      "                    HHHHHHHHH \n",
      "                     HHHHHHH  \n",
      "                      HHHHH   \n",
      "                       HHH    \n",
      "                        H     \n"
     ]
    }
   ],
   "source": [
    "#Replace all ______ with rjust, ljust or center. \n",
    "\n",
    "thickness = 5 #This must be an odd number\n",
    "c = 'H'\n",
    "\n",
    "#Top Cone\n",
    "for i in range(thickness):\n",
    "    print((c*i).rjust(thickness-1)+c+(c*i).ljust(thickness-1))\n",
    "\n",
    "#Top Pillars\n",
    "for i in range(thickness+1):\n",
    "    print((c*thickness).center(thickness*2)+(c*thickness).center(thickness*6))\n",
    "\n",
    "# #Middle Belt\n",
    "for i in range((thickness+1)//2):\n",
    "    print((c*thickness*5).center(thickness*6))    \n",
    "\n",
    "# #Bottom Pillars\n",
    "for i in range(thickness+1):\n",
    "    print((c*thickness).center(thickness*2)+(c*thickness).center(thickness*6))    \n",
    "\n",
    "# #Bottom Cone\n",
    "for i in range(thickness):\n",
    "    print(((c*(thickness-i-1)).rjust(thickness)+c+(c*(thickness-i-1)).ljust(thickness)).rjust(thickness*6))"
   ]
  },
  {
   "cell_type": "markdown",
   "id": "89ceec72",
   "metadata": {},
   "source": [
    "You are given a string and width .\n",
    "Your task is to wrap the string into a paragraph of width\n",
    "\n",
    ".\n",
    "\n",
    "Function Description\n",
    "\n",
    "Complete the wrap function in the editor below.\n",
    "\n",
    "wrap has the following parameters:\n",
    "\n",
    "    string string: a long string \n"
   ]
  },
  {
   "cell_type": "code",
   "execution_count": 84,
   "id": "3f4756d2",
   "metadata": {},
   "outputs": [],
   "source": [
    "string = \"ABCDEFGHIJKLIMNOQRSTUVWXYZ\"\n",
    "width = 4"
   ]
  },
  {
   "cell_type": "code",
   "execution_count": 88,
   "id": "a6fbb9a1",
   "metadata": {},
   "outputs": [
    {
     "name": "stdout",
     "output_type": "stream",
     "text": [
      "ABCD\n",
      "EFGH\n",
      "IJKL\n",
      "IMNO\n",
      "QRST\n",
      "UVWX\n",
      "YZ\n"
     ]
    }
   ],
   "source": [
    "import textwrap\n",
    "print(textwrap.fill(string,width))"
   ]
  },
  {
   "cell_type": "markdown",
   "id": "25841264",
   "metadata": {},
   "source": [
    "Mr. Vincent works in a door mat manufacturing company. One day, he designed a new door mat with the following specifications:\n",
    "\n",
    "    Mat size must be \n",
    "\n",
    "X. ( is an odd natural number, and is times\n",
    ".)\n",
    "The design should have 'WELCOME' written in the center.\n",
    "The design pattern should only use |, . and - characters."
   ]
  },
  {
   "cell_type": "code",
   "execution_count": 106,
   "id": "8718cd84",
   "metadata": {},
   "outputs": [
    {
     "name": "stdout",
     "output_type": "stream",
     "text": [
      "Error Code: invalid literal for int() with base 10: 'e'\n",
      "Error Code: invalid literal for int() with base 10: 'd'\n"
     ]
    }
   ],
   "source": [
    "inputs = int(input())\n",
    "for _ in range(inputs):\n",
    "    a , b = input().split()\n",
    "    try:\n",
    "        print(int(a)// int(b))\n",
    "\n",
    "    except ZeroDivisionError as e :\n",
    "        print('Error Code:', e)\n",
    "    \n",
    "    except ValueError as e:\n",
    "        print('Error Code:', e)"
   ]
  },
  {
   "cell_type": "markdown",
   "id": "632efa13",
   "metadata": {},
   "source": [
    "Write a Python program to generate a random number."
   ]
  },
  {
   "cell_type": "code",
   "execution_count": 44,
   "id": "d1a68b72",
   "metadata": {},
   "outputs": [
    {
     "name": "stdout",
     "output_type": "stream",
     "text": [
      "67\n"
     ]
    }
   ],
   "source": [
    "import random\n",
    "print(random.randint(0,100))"
   ]
  },
  {
   "cell_type": "markdown",
   "id": "c1eea6bd",
   "metadata": {},
   "source": [
    "Write a Python program to convert kilometers to miles."
   ]
  },
  {
   "cell_type": "code",
   "execution_count": 46,
   "id": "1af7e819",
   "metadata": {},
   "outputs": [
    {
     "name": "stdout",
     "output_type": "stream",
     "text": [
      "14.291533\n"
     ]
    }
   ],
   "source": [
    "km = int(input(\"Enter the kilometer\"))\n",
    "factor = 0.621371\n",
    "miles = km * factor \n",
    "print(miles)"
   ]
  },
  {
   "cell_type": "markdown",
   "id": "22e7be96",
   "metadata": {},
   "source": [
    "Write a Python program to convert Celsius to Fahrenheit."
   ]
  },
  {
   "cell_type": "code",
   "execution_count": 47,
   "id": "5872172d",
   "metadata": {},
   "outputs": [
    {
     "name": "stdout",
     "output_type": "stream",
     "text": [
      "96.2\n"
     ]
    }
   ],
   "source": [
    "#(celsius * 9/5) + 32\n",
    "\n",
    "celsius = float(input(\"Enter the celsius measure\"))\n",
    "fahrenheit = (celsius * (9/5)) + 35\n",
    "print(fahrenheit)"
   ]
  },
  {
   "cell_type": "markdown",
   "id": "87f15f47",
   "metadata": {},
   "source": [
    "Write a Python program to display calendar."
   ]
  },
  {
   "cell_type": "code",
   "execution_count": 50,
   "id": "f1951b1f",
   "metadata": {},
   "outputs": [
    {
     "name": "stdout",
     "output_type": "stream",
     "text": [
      "     July 2025\n",
      "Mo Tu We Th Fr Sa Su\n",
      "    1  2  3  4  5  6\n",
      " 7  8  9 10 11 12 13\n",
      "14 15 16 17 18 19 20\n",
      "21 22 23 24 25 26 27\n",
      "28 29 30 31\n",
      "\n"
     ]
    }
   ],
   "source": [
    "import calendar\n",
    "year = int(input(\"Enter the year:\"))\n",
    "month = int(input(\"enter the month:\"))\n",
    "cal = calendar.month(year, month)\n",
    "print(cal)"
   ]
  },
  {
   "cell_type": "markdown",
   "id": "0a2316b2",
   "metadata": {},
   "source": [
    "- Write a Python program to solve quadratic equation.\n",
    "- The standard form of a quadratic equation is:\n",
    "    - 𝑎𝑥2 + 𝑏𝑥 + 𝑐 = 0\n",
    "- where\n",
    "- a, b and c are real numbers and\n",
    "- 𝑎≠0\n",
    "- The solutions of this quadratic equation is given by:\n",
    "    - (−𝑏 ± (𝑏2 − 4𝑎𝑐)1/2)/(2𝑎)"
   ]
  },
  {
   "cell_type": "code",
   "execution_count": 3,
   "id": "5ba6bf36",
   "metadata": {},
   "outputs": [
    {
     "name": "stdout",
     "output_type": "stream",
     "text": [
      "Root 1: -2.0 + 2.0i\n",
      "Root 2: -2.0 - 2.0i\n"
     ]
    }
   ],
   "source": [
    "import math \n",
    "\n",
    "# input coefficients \n",
    "a = float(input(\"Enter the coefficient a:\"))\n",
    "b = float(input(\"Enter the coefficient b:\"))\n",
    "c = float(input(\"Enter the coefficient c:\"))\n",
    "\n",
    "# Calculate the discriminant\n",
    "discriminant = b**2 - 4*a*c\n",
    "\n",
    "# Check if th discriminant is positive, negative, or zero \n",
    "if discriminant > 0:\n",
    "    # Two real and distinct roots \n",
    "    root1 = (-b + math.sqrt(discriminant)) / (2*a)\n",
    "    root2 = (-b - math.sqrt(discriminant)) / (2*a)\n",
    "    print(f\"Root: {root1}\")\n",
    "    print(f\"Root 2: {root2}\")\n",
    "elif discriminant == 0:\n",
    "    # One real root (repeated)\n",
    "    root = -b / (2*a)\n",
    "    print(f\"Root: {root}\")\n",
    "else:\n",
    "    real_part = -b / (2*a)\n",
    "    imaginary_part = math.sqrt(abs(discriminant)) / (2*a)\n",
    "    print(f\"Root 1: {real_part} + {imaginary_part}i\")\n",
    "    print(f'Root 2: {real_part} - {imaginary_part}i')"
   ]
  },
  {
   "cell_type": "markdown",
   "id": "f7bb48ff",
   "metadata": {},
   "source": [
    "Write a Python program to swap two variables without temp variable."
   ]
  },
  {
   "cell_type": "code",
   "execution_count": null,
   "id": "8583dede",
   "metadata": {},
   "outputs": [
    {
     "name": "stdout",
     "output_type": "stream",
     "text": [
      "the value of a is 10\n",
      "The value of b is 8.0\n"
     ]
    }
   ],
   "source": [
    "a = 5 \n",
    "b = 10\n",
    "\n",
    "a, b = b, c\n",
    "print(f'the value of a is {a}')\n",
    "print(f'The value of b is {b}')\n"
   ]
  },
  {
   "cell_type": "markdown",
   "id": "52bc450a",
   "metadata": {},
   "source": [
    "Write a Python Program to Check if a Number is Positive, Negative or Zero."
   ]
  },
  {
   "cell_type": "code",
   "execution_count": 6,
   "id": "5431c869",
   "metadata": {},
   "outputs": [
    {
     "name": "stdout",
     "output_type": "stream",
     "text": [
      "The number you have entered is negative.\n"
     ]
    }
   ],
   "source": [
    "num = int(input(\"Enter the number\"))\n",
    "if num == 0:\n",
    "    print(\"The number you have entered is zero\")\n",
    "elif num > 0:\n",
    "    print(\"The number you have entered is positve number\")\n",
    "else :\n",
    "    print('The number you have entered is negative.')"
   ]
  },
  {
   "cell_type": "markdown",
   "id": "d2814fbe",
   "metadata": {},
   "source": [
    "Write a Python Program to Check if a Number is Odd or Even."
   ]
  },
  {
   "cell_type": "code",
   "execution_count": 20,
   "id": "606391f3",
   "metadata": {},
   "outputs": [
    {
     "name": "stdout",
     "output_type": "stream",
     "text": [
      "The number is even.\n"
     ]
    }
   ],
   "source": [
    "rev = int(input(\"Enter the number\"))\n",
    "if (rev % 2) == 0:\n",
    "    print(\"The number is even.\")\n",
    "else:\n",
    "    print('The number is odd')"
   ]
  },
  {
   "cell_type": "markdown",
   "id": "09e6a13a",
   "metadata": {},
   "source": [
    "Write a Python Program to Check Leap Year."
   ]
  },
  {
   "cell_type": "code",
   "execution_count": null,
   "id": "db339316",
   "metadata": {},
   "outputs": [],
   "source": [
    "year = int(input(\"enter the year\"))\n",
    "\n",
    "if (year % 400 == 0) and (year % 100 == 0):\n",
    "    print(\"{0} is a leap year\".format(year))\n",
    "\n",
    "# not divided by 100 means not a century year \n",
    "# year divided by 4 is leap year \n",
    "elif(year % 4 == 0) and (year % 100 != 0):\n",
    "    print(\"{0} is leap year\".format(year))\n",
    "\n",
    "else: \n",
    "    print(\"{0} is not a leap year\".format(year))\n"
   ]
  },
  {
   "cell_type": "markdown",
   "id": "dec9126c",
   "metadata": {},
   "source": [
    "write a program to find average in python list"
   ]
  },
  {
   "cell_type": "code",
   "execution_count": 23,
   "id": "68f1448b",
   "metadata": {},
   "outputs": [
    {
     "name": "stdout",
     "output_type": "stream",
     "text": [
      "3.0\n"
     ]
    }
   ],
   "source": [
    "sum = 0\n",
    "lista = [1,2,3,4,5]\n",
    "for element in lista:\n",
    "    sum += element\n",
    "print(sum/len(lista))"
   ]
  },
  {
   "cell_type": "code",
   "execution_count": 7,
   "id": "3a308fbb",
   "metadata": {},
   "outputs": [
    {
     "name": "stdout",
     "output_type": "stream",
     "text": [
      "Product: Apple & Raisin Oat Bars\n",
      "Brand: deliciously ella\n",
      "Ingredients: Gluten Free Oats (44%), Rice Syrup, Coconut Oil, Raisins (8%), Coconut Sugar, Rapeseed Oil, Dried Apple Pieces (5%), Cinnamon (Cassia).\n",
      "\n",
      "Nutritional Information (per 100g):\n",
      "Calories: 426 kcal\n",
      "Fat: 17.4 g\n",
      "Sugars: 29 g\n",
      "Proteins: 5.6 g\n"
     ]
    }
   ],
   "source": [
    "import requests\n",
    "\n",
    "def get_food_nutrition(food_name):\n",
    "    # Construct the URL for the API call\n",
    "    url = f\"https://world.openfoodfacts.org/cgi/search.pl?search_terms={food_name}&json=true\"\n",
    "    \n",
    "    # Make the API request\n",
    "    response = requests.get(url)\n",
    "    \n",
    "    # If the request was successful\n",
    "    if response.status_code == 200:\n",
    "        data = response.json()\n",
    "        \n",
    "        # Check if we got any results\n",
    "        if data['count'] > 0:\n",
    "            # Extract the first product from the results\n",
    "            product = data['products'][0]\n",
    "            \n",
    "            # Extract product name and nutrition info\n",
    "            product_name = product.get('product_name', 'Unknown product')\n",
    "            brands = product.get('brands', 'Unknown brand')\n",
    "            ingredients = product.get('ingredients_text', 'No ingredients listed')\n",
    "            nutriments = product.get('nutriments', {})\n",
    "            \n",
    "            # Print the nutrition info\n",
    "            print(f\"Product: {product_name}\")\n",
    "            print(f\"Brand: {brands}\")\n",
    "            print(f\"Ingredients: {ingredients}\")\n",
    "            \n",
    "            # Display the nutrition data\n",
    "            print(\"\\nNutritional Information (per 100g):\")\n",
    "            print(f\"Calories: {nutriments.get('energy-kcal_100g', 'N/A')} kcal\")\n",
    "            print(f\"Fat: {nutriments.get('fat_100g', 'N/A')} g\")\n",
    "            print(f\"Sugars: {nutriments.get('sugars_100g', 'N/A')} g\")\n",
    "            print(f\"Proteins: {nutriments.get('proteins_100g', 'N/A')} g\")\n",
    "        else:\n",
    "            print(f\"No results found for '{food_name}'\")\n",
    "    else:\n",
    "        print(\"Failed to retrieve data. Please check your internet connection.\")\n",
    "\n",
    "# Example: Search for apple\n",
    "food_name = \"apple\"\n",
    "get_food_nutrition(food_name)\n"
   ]
  },
  {
   "cell_type": "code",
   "execution_count": 3,
   "id": "74cfebad",
   "metadata": {},
   "outputs": [
    {
     "name": "stdout",
     "output_type": "stream",
     "text": [
      "Collecting aiohttp\n",
      "  Downloading aiohttp-3.12.14-cp312-cp312-manylinux_2_17_x86_64.manylinux2014_x86_64.whl.metadata (7.6 kB)\n",
      "Collecting aiohappyeyeballs>=2.5.0 (from aiohttp)\n",
      "  Downloading aiohappyeyeballs-2.6.1-py3-none-any.whl.metadata (5.9 kB)\n",
      "Collecting aiosignal>=1.4.0 (from aiohttp)\n",
      "  Downloading aiosignal-1.4.0-py3-none-any.whl.metadata (3.7 kB)\n",
      "Requirement already satisfied: attrs>=17.3.0 in /home/jithin/Desktop/learn_python/venv/lib/python3.12/site-packages (from aiohttp) (25.3.0)\n",
      "Collecting frozenlist>=1.1.1 (from aiohttp)\n",
      "  Downloading frozenlist-1.7.0-cp312-cp312-manylinux_2_5_x86_64.manylinux1_x86_64.manylinux_2_17_x86_64.manylinux2014_x86_64.whl.metadata (18 kB)\n",
      "Collecting multidict<7.0,>=4.5 (from aiohttp)\n",
      "  Downloading multidict-6.6.3-cp312-cp312-manylinux2014_x86_64.manylinux_2_17_x86_64.manylinux_2_28_x86_64.whl.metadata (5.3 kB)\n",
      "Collecting propcache>=0.2.0 (from aiohttp)\n",
      "  Downloading propcache-0.3.2-cp312-cp312-manylinux_2_17_x86_64.manylinux2014_x86_64.whl.metadata (12 kB)\n",
      "Collecting yarl<2.0,>=1.17.0 (from aiohttp)\n",
      "  Downloading yarl-1.20.1-cp312-cp312-manylinux_2_17_x86_64.manylinux2014_x86_64.whl.metadata (73 kB)\n",
      "\u001b[2K     \u001b[90m━━━━━━━━━━━━━━━━━━━━━━━━━━━━━━━━━━━━━━━\u001b[0m \u001b[32m73.9/73.9 kB\u001b[0m \u001b[31m309.5 kB/s\u001b[0m eta \u001b[36m0:00:00\u001b[0ma \u001b[36m0:00:01\u001b[0m\n",
      "\u001b[?25hRequirement already satisfied: typing-extensions>=4.2 in /home/jithin/Desktop/learn_python/venv/lib/python3.12/site-packages (from aiosignal>=1.4.0->aiohttp) (4.13.2)\n",
      "Requirement already satisfied: idna>=2.0 in /home/jithin/Desktop/learn_python/venv/lib/python3.12/site-packages (from yarl<2.0,>=1.17.0->aiohttp) (3.10)\n",
      "Downloading aiohttp-3.12.14-cp312-cp312-manylinux_2_17_x86_64.manylinux2014_x86_64.whl (1.7 MB)\n",
      "\u001b[2K   \u001b[90m━━━━━━━━━━━━━━━━━━━━━━━━━━━━━━━━━━━━━━━━\u001b[0m \u001b[32m1.7/1.7 MB\u001b[0m \u001b[31m719.6 kB/s\u001b[0m eta \u001b[36m0:00:00\u001b[0m00:01\u001b[0m00:01\u001b[0m\n",
      "\u001b[?25hDownloading aiohappyeyeballs-2.6.1-py3-none-any.whl (15 kB)\n",
      "Downloading aiosignal-1.4.0-py3-none-any.whl (7.5 kB)\n",
      "Downloading frozenlist-1.7.0-cp312-cp312-manylinux_2_5_x86_64.manylinux1_x86_64.manylinux_2_17_x86_64.manylinux2014_x86_64.whl (241 kB)\n",
      "\u001b[2K   \u001b[90m━━━━━━━━━━━━━━━━━━━━━━━━━━━━━━━━━━━━━━━\u001b[0m \u001b[32m241.8/241.8 kB\u001b[0m \u001b[31m850.0 kB/s\u001b[0m eta \u001b[36m0:00:00\u001b[0ma \u001b[36m0:00:01\u001b[0m\n",
      "\u001b[?25hDownloading multidict-6.6.3-cp312-cp312-manylinux2014_x86_64.manylinux_2_17_x86_64.manylinux_2_28_x86_64.whl (256 kB)\n",
      "\u001b[2K   \u001b[90m━━━━━━━━━━━━━━━━━━━━━━━━━━━━━━━━━━━━━━━━\u001b[0m \u001b[32m256.1/256.1 kB\u001b[0m \u001b[31m1.0 MB/s\u001b[0m eta \u001b[36m0:00:00\u001b[0ma \u001b[36m0:00:01\u001b[0m\n",
      "\u001b[?25hDownloading propcache-0.3.2-cp312-cp312-manylinux_2_17_x86_64.manylinux2014_x86_64.whl (224 kB)\n",
      "\u001b[2K   \u001b[90m━━━━━━━━━━━━━━━━━━━━━━━━━━━━━━━━━━━━━━━\u001b[0m \u001b[32m224.4/224.4 kB\u001b[0m \u001b[31m779.9 kB/s\u001b[0m eta \u001b[36m0:00:00\u001b[0ma \u001b[36m0:00:01\u001b[0m\n",
      "\u001b[?25hDownloading yarl-1.20.1-cp312-cp312-manylinux_2_17_x86_64.manylinux2014_x86_64.whl (355 kB)\n",
      "\u001b[2K   \u001b[90m━━━━━━━━━━━━━━━━━━━━━━━━━━━━━━━━━━━━━━━\u001b[0m \u001b[32m355.6/355.6 kB\u001b[0m \u001b[31m856.8 kB/s\u001b[0m eta \u001b[36m0:00:00\u001b[0ma \u001b[36m0:00:01\u001b[0m\n",
      "\u001b[?25hInstalling collected packages: propcache, multidict, frozenlist, aiohappyeyeballs, yarl, aiosignal, aiohttp\n",
      "Successfully installed aiohappyeyeballs-2.6.1 aiohttp-3.12.14 aiosignal-1.4.0 frozenlist-1.7.0 multidict-6.6.3 propcache-0.3.2 yarl-1.20.1\n",
      "Note: you may need to restart the kernel to use updated packages.\n"
     ]
    }
   ],
   "source": [
    "pip install  aiohttp"
   ]
  },
  {
   "cell_type": "code",
   "execution_count": 4,
   "id": "6abf0003",
   "metadata": {},
   "outputs": [
    {
     "name": "stdout",
     "output_type": "stream",
     "text": [
      "Requirement already satisfied: nest_asyncio in /home/jithin/Desktop/learn_python/venv/lib/python3.12/site-packages (1.6.0)\n",
      "Note: you may need to restart the kernel to use updated packages.\n"
     ]
    }
   ],
   "source": [
    "pip install nest_asyncio\n"
   ]
  },
  {
   "cell_type": "code",
   "execution_count": 5,
   "id": "0bbfa9f8",
   "metadata": {},
   "outputs": [],
   "source": [
    "import nest_asyncio\n",
    "nest_asyncio.apply()"
   ]
  },
  {
   "cell_type": "code",
   "execution_count": 9,
   "id": "a0de44dd",
   "metadata": {},
   "outputs": [],
   "source": [
    "import asyncio\n",
    "import aiohttp\n",
    "import time \n",
    "\n",
    "# List for URLs to fetch from httpbin (delays 2 seconds per request)\n",
    "ulrs = [\n",
    "    \"https://httpbin.org/delay/2\",\n",
    "    \"https://httpbin.org/delay/2\",\n",
    "    \"https://httpbin.org/delay/2\",\n",
    "]\n",
    "\n",
    "# Async function to fetch a url \n",
    "async def fetch(session, url):\n",
    "    async with session.get(url) as response:\n",
    "        print(f'Fetched from {url}')\n",
    "        return await response.text()\n",
    "    \n",
    "# Async function to run all fetch tasks \n",
    "async def fetch_all():\n",
    "    async with aiohttp.ClientSession() as session:\n",
    "        tasks = [fetch(session, url) for url in ulrs]\n",
    "        results = await asyncio.gather(*tasks)\n",
    "        return results\n",
    "\n"
   ]
  },
  {
   "cell_type": "code",
   "execution_count": null,
   "id": "8f629871",
   "metadata": {},
   "outputs": [],
   "source": [
    "start = time.time()\n",
    "results = await fetch_all()\n",
    "end = time.time()\n",
    "\n",
    "print(f' \\nFetched {len(results)} URLs in {round(end - start, 2)} seconds ')"
   ]
  }
 ],
 "metadata": {
  "kernelspec": {
   "display_name": "venv",
   "language": "python",
   "name": "python3"
  },
  "language_info": {
   "codemirror_mode": {
    "name": "ipython",
    "version": 3
   },
   "file_extension": ".py",
   "mimetype": "text/x-python",
   "name": "python",
   "nbconvert_exporter": "python",
   "pygments_lexer": "ipython3",
   "version": "3.12.3"
  }
 },
 "nbformat": 4,
 "nbformat_minor": 5
}
