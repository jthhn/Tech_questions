{
 "cells": [
  {
   "cell_type": "code",
   "execution_count": 1,
   "id": "34fbf140",
   "metadata": {},
   "outputs": [
    {
     "name": "stdout",
     "output_type": "stream",
     "text": [
      "/home/jithin/Desktop/learn_python/venv/bin/python\n"
     ]
    }
   ],
   "source": [
    "import sys\n",
    "print(sys.executable)"
   ]
  },
  {
   "cell_type": "markdown",
   "id": "9e4dba16",
   "metadata": {},
   "source": [
    "# Program to find the number of digits in a given number."
   ]
  },
  {
   "cell_type": "code",
   "execution_count": null,
   "id": "49b4a120",
   "metadata": {},
   "outputs": [
    {
     "name": "stdout",
     "output_type": "stream",
     "text": [
      "4\n"
     ]
    }
   ],
   "source": [
    "def numofdigit(N):\n",
    "    count = 0\n",
    "    while (N > 0):\n",
    "        count += 1\n",
    "        N = int(N / 10)\n",
    "    return count\n",
    "\n",
    "print(numofdigit(9999))"
   ]
  },
  {
   "cell_type": "markdown",
   "id": "5bb8042f",
   "metadata": {},
   "source": [
    "# Write a program to remove the key-value of dictionary where the length of key-value is above 3."
   ]
  },
  {
   "cell_type": "code",
   "execution_count": 22,
   "id": "0c077c11",
   "metadata": {},
   "outputs": [
    {
     "name": "stdout",
     "output_type": "stream",
     "text": [
      "{'number pattern': 78, 'name': 'Trump'}\n"
     ]
    }
   ],
   "source": [
    "def popdict(dictionary):\n",
    "    pop_value = []\n",
    "    for sub_dict in dictionary:\n",
    "        if isinstance(dictionary[sub_dict], str) and len(sub_dict) > 4:\n",
    "            pop_value.append(sub_dict)\n",
    "\n",
    "    for value in pop_value:\n",
    "        dictionary.pop(value)\n",
    "    return dictionary\n",
    "\n",
    "print(popdict(dictionary = {'country': 'India', 'number pattern': 78, 'name': 'Trump', 'Blood Group': 'B+'}))"
   ]
  },
  {
   "cell_type": "markdown",
   "id": "f508dc11",
   "metadata": {},
   "source": [
    "# Write a program to find the number is palindrome or not"
   ]
  },
  {
   "cell_type": "code",
   "execution_count": 54,
   "id": "cc23baaf",
   "metadata": {},
   "outputs": [
    {
     "name": "stdout",
     "output_type": "stream",
     "text": [
      "True \n",
      "False\n"
     ]
    }
   ],
   "source": [
    "\n",
    "def numpalindrome(N):\n",
    "    realnumber = int(N)\n",
    "    reverse = ''\n",
    "    while (N > 0):\n",
    "        reverse = reverse + str(N % 10)\n",
    "        N = N // 10\n",
    "    if realnumber == int(reverse):\n",
    "        return True\n",
    "    else:\n",
    "        return False\n",
    "\n",
    "print(f'{numpalindrome(12321)} \\n{numpalindrome(12345)}')"
   ]
  },
  {
   "cell_type": "code",
   "execution_count": null,
   "id": "f23f6349",
   "metadata": {},
   "outputs": [],
   "source": [
    "# To Try copy of an variable \n",
    "import copy\n",
    "varial = 1237\n",
    "copydfd = copy.copy(varial)"
   ]
  },
  {
   "cell_type": "markdown",
   "id": "485cc634",
   "metadata": {},
   "source": [
    "# Write a program to find the given number is armstrong or not"
   ]
  },
  {
   "cell_type": "code",
   "execution_count": 113,
   "id": "88c61f20",
   "metadata": {},
   "outputs": [
    {
     "name": "stdout",
     "output_type": "stream",
     "text": [
      "153\n"
     ]
    }
   ],
   "source": [
    "# first extracts the digits the number \n",
    "# extract the single digit by module operation by 10\n",
    "# Use a variable to set the value 0, here you neeed the add the cube of the single digits while itrarating\n",
    "# Use floor division to remove the division to remove the point value thus u can remove single digit here \n",
    "\n",
    "def armstrong(N):\n",
    "    sumcube = 0\n",
    "    while (N > 0):\n",
    "        lastdigit = N % 10\n",
    "        sumcube = sumcube + (lastdigit ** 3)\n",
    "        N = N // 10\n",
    "    return sumcube\n",
    "\n",
    "print(armstrong(153))"
   ]
  },
  {
   "cell_type": "markdown",
   "id": "10affc73",
   "metadata": {},
   "source": [
    "# Print all divisors of a number."
   ]
  },
  {
   "cell_type": "code",
   "execution_count": 12,
   "id": "8eb9bd20",
   "metadata": {},
   "outputs": [
    {
     "name": "stdout",
     "output_type": "stream",
     "text": [
      "[1, 2, 3, 4, 6, 9, 12, 18]\n"
     ]
    }
   ],
   "source": [
    "def divisor(n):\n",
    "    _ = []\n",
    "    for i in range(1,n):\n",
    "        if (n % i) == 0:\n",
    "            _.append(i)\n",
    "    return _\n",
    "        \n",
    "print(divisor(36))"
   ]
  },
  {
   "cell_type": "markdown",
   "id": "722463da",
   "metadata": {},
   "source": [
    "# Write a python program to find reverse of a list without using any builtin method."
   ]
  },
  {
   "cell_type": "code",
   "execution_count": 1,
   "id": "5ce1a3c8",
   "metadata": {},
   "outputs": [
    {
     "name": "stdout",
     "output_type": "stream",
     "text": [
      "[7, 6, 5, 4, 3, 2, 1]\n"
     ]
    }
   ],
   "source": [
    "def revlist(l):\n",
    "    length = len(l)-1\n",
    "    reverse = []\n",
    "    while (length >=0):\n",
    "        reverse.append(l[length])\n",
    "        length -= 1\n",
    "    return reverse\n",
    "\n",
    "print(revlist([1,2,3,4,5,6,7]))"
   ]
  },
  {
   "cell_type": "markdown",
   "id": "f305ca66",
   "metadata": {},
   "source": [
    "# write a recursion function for fibbinocci series."
   ]
  },
  {
   "cell_type": "code",
   "execution_count": null,
   "id": "6c20d60d",
   "metadata": {},
   "outputs": [],
   "source": [
    "def fibbinoci(n):\n",
    "    if n == 1 or n == 2:\n",
    "        return 1\n",
    "    return fibbinoci(n-1) + fibbinoci(2)"
   ]
  },
  {
   "cell_type": "markdown",
   "id": "27128066",
   "metadata": {},
   "source": [
    "# Write a function to get the index value of 2nd occurance of a given element."
   ]
  },
  {
   "cell_type": "code",
   "execution_count": 54,
   "id": "05775a49",
   "metadata": {},
   "outputs": [
    {
     "name": "stdout",
     "output_type": "stream",
     "text": [
      "4\n"
     ]
    }
   ],
   "source": [
    "def indx2nd(string, element_to_Find):\n",
    "    count = 0\n",
    "    length = len(string) - 1\n",
    "    for index in range(0, length, 1):\n",
    "        if string[index] == element_to_Find:\n",
    "            count += 1\n",
    "        if count == 2:\n",
    "            return index\n",
    "        \n",
    "print(indx2nd('jithin', 'i'))"
   ]
  },
  {
   "cell_type": "markdown",
   "id": "dc00315c",
   "metadata": {},
   "source": [
    "# Program to find the all second occurance of an element and its index value."
   ]
  },
  {
   "cell_type": "code",
   "execution_count": 23,
   "id": "fbf94e81",
   "metadata": {},
   "outputs": [
    {
     "name": "stdout",
     "output_type": "stream",
     "text": [
      "{'s': 1, 'm': 6}\n"
     ]
    }
   ],
   "source": [
    "def scndocc(string):\n",
    "    duplicates = {}\n",
    "    listvalue = []\n",
    "    length = len(string) - 1\n",
    "    for index in range(length):\n",
    "        if string[index] in listvalue:\n",
    "            duplicates[string[index]] = index\n",
    "        listvalue.append(string[index])\n",
    "    return duplicates\n",
    "\n",
    "print(scndocc('ssunammi'))"
   ]
  },
  {
   "cell_type": "markdown",
   "id": "af3b6fbc",
   "metadata": {},
   "source": [
    "# Find the Runner-Up Score!\n",
    "- hacker rank one\n",
    "Given the participants' score sheet for your University Sports Day, you are required to find the runner-up score. You are given\n",
    "\n",
    "scores. Store them in a list and find the score of the runner-up.\n",
    "\n",
    "Input Format\n",
    "\n",
    "The first line contains\n",
    ". The second line contains an array of\n",
    "\n",
    "integers each separated by a space.\n",
    "\n",
    "Constraints\n",
    "\n",
    "Output Format\n",
    "\n",
    "Print the runner-up score.    "
   ]
  },
  {
   "cell_type": "code",
   "execution_count": 27,
   "id": "3933fd20",
   "metadata": {},
   "outputs": [
    {
     "ename": "ValueError",
     "evalue": "invalid literal for int() with base 10: \"5'\"",
     "output_type": "error",
     "traceback": [
      "\u001b[31m---------------------------------------------------------------------------\u001b[39m",
      "\u001b[31mValueError\u001b[39m                                Traceback (most recent call last)",
      "\u001b[36mCell\u001b[39m\u001b[36m \u001b[39m\u001b[32mIn[27]\u001b[39m\u001b[32m, line 1\u001b[39m\n\u001b[32m----> \u001b[39m\u001b[32m1\u001b[39m n = \u001b[38;5;28;43mint\u001b[39;49m\u001b[43m(\u001b[49m\u001b[38;5;28;43minput\u001b[39;49m\u001b[43m(\u001b[49m\u001b[43m)\u001b[49m\u001b[43m)\u001b[49m\n\u001b[32m      2\u001b[39m arr = \u001b[38;5;28mmap\u001b[39m(\u001b[38;5;28mint\u001b[39m, \u001b[38;5;28minput\u001b[39m().split())\n\u001b[32m      3\u001b[39m arr = \u001b[38;5;28mset\u001b[39m(arr)\n",
      "\u001b[31mValueError\u001b[39m: invalid literal for int() with base 10: \"5'\""
     ]
    }
   ],
   "source": [
    "n = int(input())\n",
    "arr = map(int, input().split())\n",
    "arr = set(arr)\n",
    "arr = sorted([ i for i in arr])\n",
    "print(arr[-2])"
   ]
  },
  {
   "cell_type": "markdown",
   "id": "b33edf26",
   "metadata": {},
   "source": [
    "## task hackerrank \n",
    "Task\n",
    "Given an integer, , and space-separated integers as input, create a tuple, , of those integers. Then compute and print the result of . "
   ]
  },
  {
   "cell_type": "code",
   "execution_count": 6,
   "id": "08b52795",
   "metadata": {},
   "outputs": [
    {
     "name": "stdout",
     "output_type": "stream",
     "text": [
      "-860454829093830431\n"
     ]
    }
   ],
   "source": [
    "n = int(input())\n",
    "integer_list = map(int, input().split())\n",
    "t = tuple(integer_list)\n",
    "print(hash(t))\n",
    "\n"
   ]
  },
  {
   "cell_type": "markdown",
   "id": "e3392d26",
   "metadata": {},
   "source": [
    "The provided code stub will read in a dictionary containing key/value pairs of name:[marks] for a list of students. Print the average of the marks array for the student name provided, showing 2 places after the decimal.\n",
    "\n",
    "Example\n",
    "\n",
    "\n",
    "\n",
    "The query_name is 'beta'. beta's average score is "
   ]
  },
  {
   "cell_type": "code",
   "execution_count": 31,
   "id": "b69e9141",
   "metadata": {},
   "outputs": [
    {
     "name": "stdout",
     "output_type": "stream",
     "text": [
      "168.0\n",
      "56.000000\n"
     ]
    }
   ],
   "source": [
    "if __name__ == '__main__':\n",
    "    n = int(input())\n",
    "    student_marks = {}\n",
    "    for _ in range(n):\n",
    "        name, *line = input().split()\n",
    "        scores = list(map(float, line))\n",
    "        student_marks[name] = scores\n",
    "    query_name = input()\n"
   ]
  },
  {
   "cell_type": "code",
   "execution_count": 47,
   "id": "eff0e080",
   "metadata": {},
   "outputs": [
    {
     "name": "stdout",
     "output_type": "stream",
     "text": [
      "56.00\n"
     ]
    }
   ],
   "source": [
    "sum = 0\n",
    "for mark in student_marks[query_name]:\n",
    "    sum += mark\n",
    "avg = sum / (len(student_marks[query_name]))  \n",
    "print(f'{avg:.2f}')"
   ]
  },
  {
   "cell_type": "markdown",
   "id": "c80b3a00",
   "metadata": {},
   "source": [
    "In Python, a string of text can be aligned left, right and center.\n",
    "\n",
    ".ljust(width)\n",
    "\n",
    "This method returns a left aligned string of length width."
   ]
  },
  {
   "cell_type": "code",
   "execution_count": null,
   "id": "86ce0c4b",
   "metadata": {},
   "outputs": [],
   "source": [
    "#Replace all ______ with rjust, ljust or center. \n",
    "\n",
    "thickness = int(input()) #This must be an odd number\n",
    "c = 'H'\n",
    "\n",
    "#Top Cone\n",
    "for i in range(thickness):\n",
    "    print((c*i).______(thickness-1)+c+(c*i).______(thickness-1))\n",
    "\n",
    "#Top Pillars\n",
    "for i in range(thickness+1):\n",
    "    print((c*thickness).______(thickness*2)+(c*thickness).______(thickness*6))\n",
    "\n",
    "#Middle Belt\n",
    "for i in range((thickness+1)//2):\n",
    "    print((c*thickness*5).______(thickness*6))    \n",
    "\n",
    "#Bottom Pillars\n",
    "for i in range(thickness+1):\n",
    "    print((c*thickness).______(thickness*2)+(c*thickness).______(thickness*6))    \n",
    "\n",
    "#Bottom Cone\n",
    "for i in range(thickness):\n",
    "    print(((c*(thickness-i-1)).______(thickness)+c+(c*(thickness-i-1)).______(thickness)).______(thickness*6))"
   ]
  }
 ],
 "metadata": {
  "kernelspec": {
   "display_name": "venv",
   "language": "python",
   "name": "python3"
  },
  "language_info": {
   "codemirror_mode": {
    "name": "ipython",
    "version": 3
   },
   "file_extension": ".py",
   "mimetype": "text/x-python",
   "name": "python",
   "nbconvert_exporter": "python",
   "pygments_lexer": "ipython3",
   "version": "3.12.3"
  }
 },
 "nbformat": 4,
 "nbformat_minor": 5
}
