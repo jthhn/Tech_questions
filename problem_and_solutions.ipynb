{
 "cells": [
  {
   "cell_type": "code",
   "execution_count": 1,
   "id": "34fbf140",
   "metadata": {},
   "outputs": [
    {
     "name": "stdout",
     "output_type": "stream",
     "text": [
      "/home/jithin/Desktop/learn_python/venv/bin/python\n"
     ]
    }
   ],
   "source": [
    "import sys\n",
    "print(sys.executable)"
   ]
  },
  {
   "cell_type": "markdown",
   "id": "9e4dba16",
   "metadata": {},
   "source": [
    "# Program to find the number of digits in a given number."
   ]
  },
  {
   "cell_type": "code",
   "execution_count": null,
   "id": "49b4a120",
   "metadata": {},
   "outputs": [
    {
     "name": "stdout",
     "output_type": "stream",
     "text": [
      "4\n"
     ]
    }
   ],
   "source": [
    "def numofdigit(N):\n",
    "    count = 0\n",
    "    while (N > 0):\n",
    "        count += 1\n",
    "        N = int(N / 10)\n",
    "    return count\n",
    "\n",
    "print(numofdigit(9999))"
   ]
  },
  {
   "cell_type": "markdown",
   "id": "5bb8042f",
   "metadata": {},
   "source": [
    "# Write a program to remove the key-value of dictionary where the length of key-value is above 3."
   ]
  },
  {
   "cell_type": "code",
   "execution_count": 22,
   "id": "0c077c11",
   "metadata": {},
   "outputs": [
    {
     "name": "stdout",
     "output_type": "stream",
     "text": [
      "{'number pattern': 78, 'name': 'Trump'}\n"
     ]
    }
   ],
   "source": [
    "def popdict(dictionary):\n",
    "    pop_value = []\n",
    "    for sub_dict in dictionary:\n",
    "        if isinstance(dictionary[sub_dict], str) and len(sub_dict) > 4:\n",
    "            pop_value.append(sub_dict)\n",
    "\n",
    "    for value in pop_value:\n",
    "        dictionary.pop(value)\n",
    "    return dictionary\n",
    "\n",
    "print(popdict(dictionary = {'country': 'India', 'number pattern': 78, 'name': 'Trump', 'Blood Group': 'B+'}))"
   ]
  },
  {
   "cell_type": "markdown",
   "id": "f508dc11",
   "metadata": {},
   "source": [
    "# Write a program to find the number is palindrome or not"
   ]
  },
  {
   "cell_type": "code",
   "execution_count": 54,
   "id": "cc23baaf",
   "metadata": {},
   "outputs": [
    {
     "name": "stdout",
     "output_type": "stream",
     "text": [
      "True \n",
      "False\n"
     ]
    }
   ],
   "source": [
    "\n",
    "def numpalindrome(N):\n",
    "    realnumber = int(N)\n",
    "    reverse = ''\n",
    "    while (N > 0):\n",
    "        reverse = reverse + str(N % 10)\n",
    "        N = N // 10\n",
    "    if realnumber == int(reverse):\n",
    "        return True\n",
    "    else:\n",
    "        return False\n",
    "\n",
    "print(f'{numpalindrome(12321)} \\n{numpalindrome(12345)}')"
   ]
  },
  {
   "cell_type": "code",
   "execution_count": null,
   "id": "f23f6349",
   "metadata": {},
   "outputs": [],
   "source": [
    "# To Try copy of an variable \n",
    "import copy\n",
    "varial = 1237\n",
    "copydfd = copy.copy(varial)"
   ]
  },
  {
   "cell_type": "markdown",
   "id": "485cc634",
   "metadata": {},
   "source": [
    "# Write a program to find the given number is armstrong or not"
   ]
  },
  {
   "cell_type": "code",
   "execution_count": 113,
   "id": "88c61f20",
   "metadata": {},
   "outputs": [
    {
     "name": "stdout",
     "output_type": "stream",
     "text": [
      "153\n"
     ]
    }
   ],
   "source": [
    "# first extracts the digits the number \n",
    "# extract the single digit by module operation by 10\n",
    "# Use a variable to set the value 0, here you neeed the add the cube of the single digits while itrarating\n",
    "# Use floor division to remove the division to remove the point value thus u can remove single digit here \n",
    "\n",
    "def armstrong(N):\n",
    "    sumcube = 0\n",
    "    while (N > 0):\n",
    "        lastdigit = N % 10\n",
    "        sumcube = sumcube + (lastdigit ** 3)\n",
    "        N = N // 10\n",
    "    return sumcube\n",
    "\n",
    "print(armstrong(153))"
   ]
  },
  {
   "cell_type": "code",
   "execution_count": null,
   "id": "27128066",
   "metadata": {},
   "outputs": [],
   "source": []
  }
 ],
 "metadata": {
  "kernelspec": {
   "display_name": "venv",
   "language": "python",
   "name": "python3"
  },
  "language_info": {
   "codemirror_mode": {
    "name": "ipython",
    "version": 3
   },
   "file_extension": ".py",
   "mimetype": "text/x-python",
   "name": "python",
   "nbconvert_exporter": "python",
   "pygments_lexer": "ipython3",
   "version": "3.12.3"
  }
 },
 "nbformat": 4,
 "nbformat_minor": 5
}
