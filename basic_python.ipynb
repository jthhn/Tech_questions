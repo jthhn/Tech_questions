{
 "cells": [
  {
   "cell_type": "code",
   "execution_count": 1,
   "id": "c00d4bf8",
   "metadata": {},
   "outputs": [
    {
     "name": "stdout",
     "output_type": "stream",
     "text": [
      "/home/jithin/Desktop/learn_python/venv/bin/python\n"
     ]
    }
   ],
   "source": [
    "import sys\n",
    "print(sys.executable)"
   ]
  },
  {
   "cell_type": "code",
   "execution_count": 3,
   "id": "c78ed8a0",
   "metadata": {},
   "outputs": [
    {
     "name": "stdout",
     "output_type": "stream",
     "text": [
      "0\n",
      "1\n",
      "2\n",
      "3\n",
      "4\n",
      "5\n"
     ]
    }
   ],
   "source": [
    "def my_generator(n):\n",
    "    for i in range(n):\n",
    "        yield i\n",
    "\n",
    "for num in my_generator(6):\n",
    "    print(num)"
   ]
  },
  {
   "cell_type": "code",
   "execution_count": 23,
   "id": "48d2131c",
   "metadata": {},
   "outputs": [],
   "source": [
    "eg_generator = my_generator(100)"
   ]
  },
  {
   "cell_type": "code",
   "execution_count": 5,
   "id": "ee783f6c",
   "metadata": {},
   "outputs": [
    {
     "name": "stdout",
     "output_type": "stream",
     "text": [
      "<generator object my_generator at 0x78f7253c7780>\n"
     ]
    }
   ],
   "source": [
    "print(eg_generator)"
   ]
  },
  {
   "cell_type": "code",
   "execution_count": 162,
   "id": "49873086",
   "metadata": {},
   "outputs": [
    {
     "name": "stdout",
     "output_type": "stream",
     "text": [
      "No more iteration are here to happen.\n"
     ]
    }
   ],
   "source": [
    "try:\n",
    "    print(next(eg_generator))\n",
    "except StopIteration:\n",
    "    print(\"No more iteration are here to happen.\")\n"
   ]
  }
 ],
 "metadata": {
  "kernelspec": {
   "display_name": "venv",
   "language": "python",
   "name": "python3"
  },
  "language_info": {
   "codemirror_mode": {
    "name": "ipython",
    "version": 3
   },
   "file_extension": ".py",
   "mimetype": "text/x-python",
   "name": "python",
   "nbconvert_exporter": "python",
   "pygments_lexer": "ipython3",
   "version": "3.12.3"
  }
 },
 "nbformat": 4,
 "nbformat_minor": 5
}
